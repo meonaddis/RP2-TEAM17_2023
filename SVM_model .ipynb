{
 "cells": [
  {
   "cell_type": "code",
   "execution_count": 25,
   "id": "5092fdd8",
   "metadata": {
    "tags": []
   },
   "outputs": [],
   "source": [
    "import numpy as np\n",
    "import cv2\n",
    "import pandas as pd\n",
    "from matplotlib import pyplot as plt\n",
    "import seaborn as sns\n",
    "import geopandas as gpd"
   ]
  },
  {
   "cell_type": "code",
   "execution_count": 26,
   "id": "6f97af25",
   "metadata": {
    "tags": []
   },
   "outputs": [
    {
     "data": {
      "text/html": [
       "<div>\n",
       "<style scoped>\n",
       "    .dataframe tbody tr th:only-of-type {\n",
       "        vertical-align: middle;\n",
       "    }\n",
       "\n",
       "    .dataframe tbody tr th {\n",
       "        vertical-align: top;\n",
       "    }\n",
       "\n",
       "    .dataframe thead th {\n",
       "        text-align: right;\n",
       "    }\n",
       "</style>\n",
       "<table border=\"1\" class=\"dataframe\">\n",
       "  <thead>\n",
       "    <tr style=\"text-align: right;\">\n",
       "      <th></th>\n",
       "      <th>id</th>\n",
       "      <th>label</th>\n",
       "      <th>DEM</th>\n",
       "      <th>Slope</th>\n",
       "      <th>Aspect</th>\n",
       "      <th>Curvature</th>\n",
       "      <th>Soil_Test</th>\n",
       "      <th>CN</th>\n",
       "      <th>TWI</th>\n",
       "      <th>Rainfall</th>\n",
       "      <th>LULC</th>\n",
       "      <th>Soil_Text</th>\n",
       "      <th>geometry</th>\n",
       "    </tr>\n",
       "  </thead>\n",
       "  <tbody>\n",
       "    <tr>\n",
       "      <th>0</th>\n",
       "      <td>0</td>\n",
       "      <td>0</td>\n",
       "      <td>810</td>\n",
       "      <td>4.124518</td>\n",
       "      <td>56.309933</td>\n",
       "      <td>1.28</td>\n",
       "      <td>0</td>\n",
       "      <td>71</td>\n",
       "      <td>7.651444</td>\n",
       "      <td>8.634620</td>\n",
       "      <td>30</td>\n",
       "      <td>7</td>\n",
       "      <td>POINT (648355.689 1032128.503)</td>\n",
       "    </tr>\n",
       "    <tr>\n",
       "      <th>1</th>\n",
       "      <td>1</td>\n",
       "      <td>0</td>\n",
       "      <td>798</td>\n",
       "      <td>1.811248</td>\n",
       "      <td>288.434937</td>\n",
       "      <td>-0.64</td>\n",
       "      <td>0</td>\n",
       "      <td>71</td>\n",
       "      <td>6.457982</td>\n",
       "      <td>9.113000</td>\n",
       "      <td>30</td>\n",
       "      <td>7</td>\n",
       "      <td>POINT (652338.758 1039898.468)</td>\n",
       "    </tr>\n",
       "    <tr>\n",
       "      <th>2</th>\n",
       "      <td>2</td>\n",
       "      <td>0</td>\n",
       "      <td>783</td>\n",
       "      <td>2.429397</td>\n",
       "      <td>45.000000</td>\n",
       "      <td>-1.28</td>\n",
       "      <td>0</td>\n",
       "      <td>71</td>\n",
       "      <td>8.626627</td>\n",
       "      <td>14.380471</td>\n",
       "      <td>30</td>\n",
       "      <td>7</td>\n",
       "      <td>POINT (654594.349 1045368.461)</td>\n",
       "    </tr>\n",
       "    <tr>\n",
       "      <th>3</th>\n",
       "      <td>3</td>\n",
       "      <td>0</td>\n",
       "      <td>845</td>\n",
       "      <td>0.810231</td>\n",
       "      <td>225.000000</td>\n",
       "      <td>-0.00</td>\n",
       "      <td>0</td>\n",
       "      <td>71</td>\n",
       "      <td>11.018336</td>\n",
       "      <td>9.009209</td>\n",
       "      <td>30</td>\n",
       "      <td>7</td>\n",
       "      <td>POINT (653891.492 1031276.320)</td>\n",
       "    </tr>\n",
       "    <tr>\n",
       "      <th>4</th>\n",
       "      <td>4</td>\n",
       "      <td>0</td>\n",
       "      <td>803</td>\n",
       "      <td>1.811248</td>\n",
       "      <td>108.434952</td>\n",
       "      <td>-0.64</td>\n",
       "      <td>0</td>\n",
       "      <td>71</td>\n",
       "      <td>7.151129</td>\n",
       "      <td>11.598495</td>\n",
       "      <td>30</td>\n",
       "      <td>7</td>\n",
       "      <td>POINT (657859.303 1042542.024)</td>\n",
       "    </tr>\n",
       "  </tbody>\n",
       "</table>\n",
       "</div>"
      ],
      "text/plain": [
       "   id  label  DEM     Slope      Aspect  Curvature  Soil_Test  CN        TWI  \\\n",
       "0   0      0  810  4.124518   56.309933       1.28          0  71   7.651444   \n",
       "1   1      0  798  1.811248  288.434937      -0.64          0  71   6.457982   \n",
       "2   2      0  783  2.429397   45.000000      -1.28          0  71   8.626627   \n",
       "3   3      0  845  0.810231  225.000000      -0.00          0  71  11.018336   \n",
       "4   4      0  803  1.811248  108.434952      -0.64          0  71   7.151129   \n",
       "\n",
       "    Rainfall  LULC  Soil_Text                        geometry  \n",
       "0   8.634620    30          7  POINT (648355.689 1032128.503)  \n",
       "1   9.113000    30          7  POINT (652338.758 1039898.468)  \n",
       "2  14.380471    30          7  POINT (654594.349 1045368.461)  \n",
       "3   9.009209    30          7  POINT (653891.492 1031276.320)  \n",
       "4  11.598495    30          7  POINT (657859.303 1042542.024)  "
      ]
     },
     "execution_count": 26,
     "metadata": {},
     "output_type": "execute_result"
    }
   ],
   "source": [
    "# Read the shapefile\n",
    "\n",
    "# Flooded = 0 indicates not flooded location while Flooded = 1 indicates flooded location\n",
    "## flood predictory features for amibara.\n",
    "df=gpd.read_file(\"points_data.shp\")\n",
    "df.head()"
   ]
  },
  {
   "cell_type": "code",
   "execution_count": 27,
   "id": "bb73ed71-61df-4303-b0c5-9466e8c51eb3",
   "metadata": {
    "tags": []
   },
   "outputs": [],
   "source": [
    "df= df.drop(labels = [\"id\",\"Soil_Test\"], axis=1)"
   ]
  },
  {
   "cell_type": "code",
   "execution_count": 28,
   "id": "6aee8c67",
   "metadata": {
    "tags": []
   },
   "outputs": [
    {
     "name": "stdout",
     "output_type": "stream",
     "text": [
      "           count          mean           std           min         25%  \\\n",
      "label      393.0  6.921120e-01  4.622084e-01  0.000000e+00    0.000000   \n",
      "DEM        393.0  7.298244e+02  4.759590e+01  6.960000e+02  706.000000   \n",
      "Slope      393.0  4.342038e+00  5.112538e+00  0.000000e+00    1.811248   \n",
      "Aspect     393.0 -7.185369e+02  2.907206e+03 -9.999000e+03   71.565048   \n",
      "Curvature  393.0  7.002544e-02  8.639245e-01 -2.560000e+00   -0.640000   \n",
      "CN         393.0  6.035623e+01  1.044618e+01  3.000000e+01   58.000000   \n",
      "TWI        393.0 -1.731717e+20  2.424395e+21 -3.402823e+22    6.958297   \n",
      "Rainfall   393.0  1.191060e+01  2.368298e+00  6.662645e+00   10.237988   \n",
      "LULC       393.0  4.208651e+01  2.634587e+01  2.000000e+01   20.000000   \n",
      "Soil_Text  393.0  4.175573e+00  1.418613e+00  1.000000e+00    4.000000   \n",
      "\n",
      "                  50%         75%          max  \n",
      "label        1.000000    1.000000     1.000000  \n",
      "DEM        715.000000  728.000000  1042.000000  \n",
      "Slope        2.918995    4.573921    36.269638  \n",
      "Aspect     180.000000  270.000000   360.000000  \n",
      "Curvature    0.000000    0.640000     2.560000  \n",
      "CN          58.000000   66.000000    85.000000  \n",
      "TWI          7.978408   11.399216    18.514156  \n",
      "Rainfall    12.190639   13.552235    16.683786  \n",
      "LULC        30.000000   40.000000    90.000000  \n",
      "Soil_Text    4.000000    4.000000     7.000000  \n"
     ]
    }
   ],
   "source": [
    "print(df.describe().T)  #Values are already normalized in GIS before fitting. "
   ]
  },
  {
   "cell_type": "code",
   "execution_count": 29,
   "id": "28a96729",
   "metadata": {
    "tags": []
   },
   "outputs": [
    {
     "name": "stdout",
     "output_type": "stream",
     "text": [
      "label        0\n",
      "DEM          0\n",
      "Slope        0\n",
      "Aspect       0\n",
      "Curvature    0\n",
      "CN           0\n",
      "TWI          0\n",
      "Rainfall     0\n",
      "LULC         0\n",
      "Soil_Text    0\n",
      "geometry     0\n",
      "dtype: int64\n"
     ]
    }
   ],
   "source": [
    "#check that there is no no data values in the dataset\n",
    "print(df.isnull().sum())\n",
    "#df = df.dropna() # use this to remove rows with no data values "
   ]
  },
  {
   "cell_type": "code",
   "execution_count": 30,
   "id": "6a817fdb",
   "metadata": {
    "tags": []
   },
   "outputs": [
    {
     "name": "stdout",
     "output_type": "stream",
     "text": [
      "Class           int64\n",
      "DEM             int64\n",
      "Slope         float64\n",
      "Aspect        float64\n",
      "Curvature     float64\n",
      "CN              int64\n",
      "TWI           float64\n",
      "Rainfall      float64\n",
      "LULC            int64\n",
      "Soil_Text       int64\n",
      "geometry     geometry\n",
      "dtype: object\n"
     ]
    },
    {
     "data": {
      "text/html": [
       "<div>\n",
       "<style scoped>\n",
       "    .dataframe tbody tr th:only-of-type {\n",
       "        vertical-align: middle;\n",
       "    }\n",
       "\n",
       "    .dataframe tbody tr th {\n",
       "        vertical-align: top;\n",
       "    }\n",
       "\n",
       "    .dataframe thead th {\n",
       "        text-align: right;\n",
       "    }\n",
       "</style>\n",
       "<table border=\"1\" class=\"dataframe\">\n",
       "  <thead>\n",
       "    <tr style=\"text-align: right;\">\n",
       "      <th></th>\n",
       "      <th>Class</th>\n",
       "      <th>DEM</th>\n",
       "      <th>Slope</th>\n",
       "      <th>Aspect</th>\n",
       "      <th>Curvature</th>\n",
       "      <th>CN</th>\n",
       "      <th>TWI</th>\n",
       "      <th>Rainfall</th>\n",
       "      <th>LULC</th>\n",
       "      <th>Soil_Text</th>\n",
       "      <th>geometry</th>\n",
       "    </tr>\n",
       "  </thead>\n",
       "  <tbody>\n",
       "    <tr>\n",
       "      <th>0</th>\n",
       "      <td>0</td>\n",
       "      <td>810</td>\n",
       "      <td>4.124518</td>\n",
       "      <td>56.309933</td>\n",
       "      <td>1.28</td>\n",
       "      <td>71</td>\n",
       "      <td>7.651444</td>\n",
       "      <td>8.634620</td>\n",
       "      <td>30</td>\n",
       "      <td>7</td>\n",
       "      <td>POINT (648355.689 1032128.503)</td>\n",
       "    </tr>\n",
       "    <tr>\n",
       "      <th>1</th>\n",
       "      <td>0</td>\n",
       "      <td>798</td>\n",
       "      <td>1.811248</td>\n",
       "      <td>288.434937</td>\n",
       "      <td>-0.64</td>\n",
       "      <td>71</td>\n",
       "      <td>6.457982</td>\n",
       "      <td>9.113000</td>\n",
       "      <td>30</td>\n",
       "      <td>7</td>\n",
       "      <td>POINT (652338.758 1039898.468)</td>\n",
       "    </tr>\n",
       "    <tr>\n",
       "      <th>2</th>\n",
       "      <td>0</td>\n",
       "      <td>783</td>\n",
       "      <td>2.429397</td>\n",
       "      <td>45.000000</td>\n",
       "      <td>-1.28</td>\n",
       "      <td>71</td>\n",
       "      <td>8.626627</td>\n",
       "      <td>14.380471</td>\n",
       "      <td>30</td>\n",
       "      <td>7</td>\n",
       "      <td>POINT (654594.349 1045368.461)</td>\n",
       "    </tr>\n",
       "    <tr>\n",
       "      <th>3</th>\n",
       "      <td>0</td>\n",
       "      <td>845</td>\n",
       "      <td>0.810231</td>\n",
       "      <td>225.000000</td>\n",
       "      <td>-0.00</td>\n",
       "      <td>71</td>\n",
       "      <td>11.018336</td>\n",
       "      <td>9.009209</td>\n",
       "      <td>30</td>\n",
       "      <td>7</td>\n",
       "      <td>POINT (653891.492 1031276.320)</td>\n",
       "    </tr>\n",
       "    <tr>\n",
       "      <th>4</th>\n",
       "      <td>0</td>\n",
       "      <td>803</td>\n",
       "      <td>1.811248</td>\n",
       "      <td>108.434952</td>\n",
       "      <td>-0.64</td>\n",
       "      <td>71</td>\n",
       "      <td>7.151129</td>\n",
       "      <td>11.598495</td>\n",
       "      <td>30</td>\n",
       "      <td>7</td>\n",
       "      <td>POINT (657859.303 1042542.024)</td>\n",
       "    </tr>\n",
       "    <tr>\n",
       "      <th>...</th>\n",
       "      <td>...</td>\n",
       "      <td>...</td>\n",
       "      <td>...</td>\n",
       "      <td>...</td>\n",
       "      <td>...</td>\n",
       "      <td>...</td>\n",
       "      <td>...</td>\n",
       "      <td>...</td>\n",
       "      <td>...</td>\n",
       "      <td>...</td>\n",
       "      <td>...</td>\n",
       "    </tr>\n",
       "    <tr>\n",
       "      <th>388</th>\n",
       "      <td>1</td>\n",
       "      <td>719</td>\n",
       "      <td>0.000000</td>\n",
       "      <td>-9999.000000</td>\n",
       "      <td>-0.00</td>\n",
       "      <td>30</td>\n",
       "      <td>9.554776</td>\n",
       "      <td>10.237988</td>\n",
       "      <td>90</td>\n",
       "      <td>1</td>\n",
       "      <td>POINT (634272.168 1036892.731)</td>\n",
       "    </tr>\n",
       "    <tr>\n",
       "      <th>389</th>\n",
       "      <td>1</td>\n",
       "      <td>720</td>\n",
       "      <td>1.811248</td>\n",
       "      <td>161.565048</td>\n",
       "      <td>-0.64</td>\n",
       "      <td>30</td>\n",
       "      <td>6.938687</td>\n",
       "      <td>10.237988</td>\n",
       "      <td>30</td>\n",
       "      <td>1</td>\n",
       "      <td>POINT (634203.006 1037288.382)</td>\n",
       "    </tr>\n",
       "    <tr>\n",
       "      <th>390</th>\n",
       "      <td>1</td>\n",
       "      <td>721</td>\n",
       "      <td>0.000000</td>\n",
       "      <td>-9999.000000</td>\n",
       "      <td>-0.00</td>\n",
       "      <td>58</td>\n",
       "      <td>7.469123</td>\n",
       "      <td>10.237988</td>\n",
       "      <td>40</td>\n",
       "      <td>4</td>\n",
       "      <td>POINT (632194.606 1037854.806)</td>\n",
       "    </tr>\n",
       "    <tr>\n",
       "      <th>391</th>\n",
       "      <td>1</td>\n",
       "      <td>715</td>\n",
       "      <td>0.000000</td>\n",
       "      <td>-9999.000000</td>\n",
       "      <td>-0.00</td>\n",
       "      <td>58</td>\n",
       "      <td>14.062859</td>\n",
       "      <td>14.165248</td>\n",
       "      <td>90</td>\n",
       "      <td>4</td>\n",
       "      <td>POINT (635526.358 1042630.752)</td>\n",
       "    </tr>\n",
       "    <tr>\n",
       "      <th>392</th>\n",
       "      <td>1</td>\n",
       "      <td>716</td>\n",
       "      <td>4.573921</td>\n",
       "      <td>180.000000</td>\n",
       "      <td>-0.00</td>\n",
       "      <td>58</td>\n",
       "      <td>11.423801</td>\n",
       "      <td>14.165248</td>\n",
       "      <td>90</td>\n",
       "      <td>4</td>\n",
       "      <td>POINT (635530.019 1041593.248)</td>\n",
       "    </tr>\n",
       "  </tbody>\n",
       "</table>\n",
       "<p>393 rows × 11 columns</p>\n",
       "</div>"
      ],
      "text/plain": [
       "     Class  DEM     Slope       Aspect  Curvature  CN        TWI   Rainfall  \\\n",
       "0        0  810  4.124518    56.309933       1.28  71   7.651444   8.634620   \n",
       "1        0  798  1.811248   288.434937      -0.64  71   6.457982   9.113000   \n",
       "2        0  783  2.429397    45.000000      -1.28  71   8.626627  14.380471   \n",
       "3        0  845  0.810231   225.000000      -0.00  71  11.018336   9.009209   \n",
       "4        0  803  1.811248   108.434952      -0.64  71   7.151129  11.598495   \n",
       "..     ...  ...       ...          ...        ...  ..        ...        ...   \n",
       "388      1  719  0.000000 -9999.000000      -0.00  30   9.554776  10.237988   \n",
       "389      1  720  1.811248   161.565048      -0.64  30   6.938687  10.237988   \n",
       "390      1  721  0.000000 -9999.000000      -0.00  58   7.469123  10.237988   \n",
       "391      1  715  0.000000 -9999.000000      -0.00  58  14.062859  14.165248   \n",
       "392      1  716  4.573921   180.000000      -0.00  58  11.423801  14.165248   \n",
       "\n",
       "     LULC  Soil_Text                        geometry  \n",
       "0      30          7  POINT (648355.689 1032128.503)  \n",
       "1      30          7  POINT (652338.758 1039898.468)  \n",
       "2      30          7  POINT (654594.349 1045368.461)  \n",
       "3      30          7  POINT (653891.492 1031276.320)  \n",
       "4      30          7  POINT (657859.303 1042542.024)  \n",
       "..    ...        ...                             ...  \n",
       "388    90          1  POINT (634272.168 1036892.731)  \n",
       "389    30          1  POINT (634203.006 1037288.382)  \n",
       "390    40          4  POINT (632194.606 1037854.806)  \n",
       "391    90          4  POINT (635526.358 1042630.752)  \n",
       "392    90          4  POINT (635530.019 1041593.248)  \n",
       "\n",
       "[393 rows x 11 columns]"
      ]
     },
     "execution_count": 30,
     "metadata": {},
     "output_type": "execute_result"
    }
   ],
   "source": [
    "df = df.rename(columns={'label':'Class'})\n",
    "print(df.dtypes)\n",
    "df"
   ]
  },
  {
   "cell_type": "code",
   "execution_count": null,
   "id": "6178bd47-325c-46af-9feb-a8e49bc153fa",
   "metadata": {
    "tags": []
   },
   "outputs": [],
   "source": []
  },
  {
   "cell_type": "code",
   "execution_count": 31,
   "id": "cc1213cf",
   "metadata": {
    "tags": []
   },
   "outputs": [
    {
     "data": {
      "text/plain": [
       "<Axes: xlabel='Class', ylabel='count'>"
      ]
     },
     "execution_count": 31,
     "metadata": {},
     "output_type": "execute_result"
    },
    {
     "data": {
      "image/png": "[encoded data removed]",
      "text/plain": [
       "<Figure size 640x480 with 1 Axes>"
      ]
     },
     "metadata": {},
     "output_type": "display_data"
    }
   ],
   "source": [
    "#Understand the data \n",
    "# The dataset includes the same number of flooded and not flooded locations\n",
    "sns.countplot(x=\"Class\", data=df) #0 - Notflooded   1 - Flooded"
   ]
  },
  {
   "cell_type": "code",
   "execution_count": 32,
   "id": "c751270b",
   "metadata": {
    "tags": []
   },
   "outputs": [
    {
     "name": "stdout",
     "output_type": "stream",
     "text": [
      "Class           int64\n",
      "DEM             int64\n",
      "Slope         float64\n",
      "Aspect        float64\n",
      "Curvature     float64\n",
      "CN              int64\n",
      "TWI           float64\n",
      "Rainfall      float64\n",
      "LULC            int64\n",
      "Soil_Text       int64\n",
      "geometry     geometry\n",
      "dtype: object\n"
     ]
    }
   ],
   "source": [
    "print(df.dtypes)"
   ]
  },
  {
   "cell_type": "code",
   "execution_count": 33,
   "id": "85b7430f",
   "metadata": {
    "tags": []
   },
   "outputs": [
    {
     "data": {
      "text/plain": [
       "<Axes: xlabel='Class', ylabel='count'>"
      ]
     },
     "execution_count": 33,
     "metadata": {},
     "output_type": "execute_result"
    },
    {
     "data": {
      "image/png": "[encoded data removed]",
      "text/plain": [
       "<Figure size 640x480 with 1 Axes>"
      ]
     },
     "metadata": {},
     "output_type": "display_data"
    }
   ],
   "source": [
    "import seaborn as sns\n",
    "#Understand the data \n",
    "# The dataset includes the same number of flooded and not flooded locations\n",
    "sns.countplot(x=\"Class\", data=df) #0 - Notflooded   1 - Flooded"
   ]
  },
  {
   "cell_type": "code",
   "execution_count": 34,
   "id": "4924dcc3",
   "metadata": {
    "tags": []
   },
   "outputs": [
    {
     "data": {
      "text/plain": [
       "<Axes: >"
      ]
     },
     "execution_count": 34,
     "metadata": {},
     "output_type": "execute_result"
    },
    {
     "data": {
      "image/png": "[encoded data removed]",
      "text/plain": [
       "<Figure size 1000x1000 with 2 Axes>"
      ]
     },
     "metadata": {},
     "output_type": "display_data"
    }
   ],
   "source": [
    "# import seaborn as sns\n",
    "# import matplotlib.pyplot as plt\n",
    "\n",
    "# # Assuming 'df' is your DataFrame\n",
    "# # Check data types\n",
    "# print(df.dtypes)\n",
    "\n",
    "# # Drop non-numeric columns if needed\n",
    "# df_numeric = df.select_dtypes(include='number')\n",
    "\n",
    "# # Calculate the correlation matrix\n",
    "# corrMatrix = df_numeric.corr()\n",
    "\n",
    "# # Create a heatmap\n",
    "# fig, ax = plt.subplots(figsize=(10, 10))\n",
    "# sns.heatmap(corrMatrix, annot=True, cmap=\"coolwarm\", linewidths=.5, ax=ax)\n",
    "\n",
    "# plt.show()\n",
    "numeric_df = df.select_dtypes(include=['float64', 'int64'])\n",
    "\n",
    "# Compute the correlation matrix\n",
    "corrMatrix = numeric_df.corr()\n",
    "\n",
    "# Now you can create the heatmap\n",
    "fig, ax = plt.subplots(figsize=(10,10))\n",
    "sns.heatmap(corrMatrix, annot=False, linewidths=.5, ax=ax)"
   ]
  },
  {
   "cell_type": "code",
   "execution_count": 35,
   "id": "3a5dcfe0",
   "metadata": {
    "tags": []
   },
   "outputs": [],
   "source": [
    "#Define the dependent variable that needs to be predicted (FSM)\n",
    "Y = df[\"Class\"].values"
   ]
  },
  {
   "cell_type": "code",
   "execution_count": 36,
   "id": "ccd74fff",
   "metadata": {
    "tags": []
   },
   "outputs": [],
   "source": [
    "#Define the dependent variable that needs to be predicted (labels)\n",
    "Y = df[\"Class\"].values\n",
    "\n",
    "#Define the independent variables. Let's also drop gemotry and label\n",
    "X = df.drop(labels = [\"Class\", \"geometry\"], axis=1) \n",
    "features_list = list(X.columns)  #List features so we can rank their importance later "
   ]
  },
  {
   "cell_type": "code",
   "execution_count": 37,
   "id": "3043c4f8",
   "metadata": {
    "tags": []
   },
   "outputs": [
    {
     "data": {
      "text/plain": [
       "array([0, 0, 0, 0, 0, 0, 0, 0, 0, 0, 0, 0, 0, 0, 0, 0, 0, 0, 0, 0, 0, 0,\n",
       "       0, 0, 0, 0, 0, 0, 0, 0, 0, 0, 0, 0, 0, 0, 0, 0, 0, 0, 0, 0, 0, 0,\n",
       "       0, 0, 0, 0, 0, 0, 0, 0, 0, 0, 0, 0, 0, 0, 0, 0, 0, 0, 0, 0, 0, 0,\n",
       "       0, 0, 0, 0, 0, 0, 0, 0, 0, 0, 0, 0, 0, 0, 0, 0, 0, 0, 0, 0, 0, 0,\n",
       "       0, 0, 0, 0, 0, 0, 0, 0, 0, 0, 0, 0, 0, 0, 0, 0, 0, 0, 0, 0, 0, 0,\n",
       "       0, 0, 0, 0, 0, 0, 0, 0, 0, 0, 0, 1, 1, 1, 1, 1, 1, 1, 1, 1, 1, 1,\n",
       "       1, 1, 1, 1, 1, 1, 1, 1, 1, 1, 1, 1, 1, 1, 1, 1, 1, 1, 1, 1, 1, 1,\n",
       "       1, 1, 1, 1, 1, 1, 1, 1, 1, 1, 1, 1, 1, 1, 1, 1, 1, 1, 1, 1, 1, 1,\n",
       "       1, 1, 1, 1, 1, 1, 1, 1, 1, 1, 1, 1, 1, 1, 1, 1, 1, 1, 1, 1, 1, 1,\n",
       "       1, 1, 1, 1, 1, 1, 1, 1, 1, 1, 1, 1, 1, 1, 1, 1, 1, 1, 1, 1, 1, 1,\n",
       "       1, 1, 1, 1, 1, 1, 1, 1, 1, 1, 1, 1, 1, 1, 1, 1, 1, 1, 1, 1, 1, 1,\n",
       "       1, 1, 1, 1, 1, 1, 1, 1, 1, 1, 1, 1, 1, 1, 1, 1, 1, 1, 1, 1, 1, 1,\n",
       "       1, 1, 1, 1, 1, 1, 1, 1, 1, 1, 1, 1, 1, 1, 1, 1, 1, 1, 1, 1, 1, 1,\n",
       "       1, 1, 1, 1, 1, 1, 1, 1, 1, 1, 1, 1, 1, 1, 1, 1, 1, 1, 1, 1, 1, 1,\n",
       "       1, 1, 1, 1, 1, 1, 1, 1, 1, 1, 1, 1, 1, 1, 1, 1, 1, 1, 1, 1, 1, 1,\n",
       "       1, 1, 1, 1, 1, 1, 1, 1, 1, 1, 1, 1, 1, 1, 1, 1, 1, 1, 1, 1, 1, 1,\n",
       "       1, 1, 1, 1, 1, 1, 1, 1, 1, 1, 1, 1, 1, 1, 1, 1, 1, 1, 1, 1, 1, 1,\n",
       "       1, 1, 1, 1, 1, 1, 1, 1, 1, 1, 1, 1, 1, 1, 1, 1, 1, 1, 1])"
      ]
     },
     "execution_count": 37,
     "metadata": {},
     "output_type": "execute_result"
    }
   ],
   "source": [
    "Y"
   ]
  },
  {
   "cell_type": "code",
   "execution_count": 38,
   "id": "39c85cbd",
   "metadata": {
    "tags": []
   },
   "outputs": [],
   "source": [
    "#Split data into train (60 %), validate (20 %) and test (20%) to verify accuracy after fitting the model.\n",
    "# training data is used to train the model\n",
    "# validation data is used for hyperparameter tuning\n",
    "# testing data is used to test the model\n",
    "\n",
    "from sklearn.model_selection import train_test_split\n",
    "X_train_val, X_test, y_train_val, y_test = train_test_split(X, Y, test_size=0.2,shuffle=True, random_state=100)\n",
    "X_train, X_val, y_train, y_val = train_test_split(X_train_val, y_train_val, test_size=0.25,shuffle=True, random_state=100)"
   ]
  },
  {
   "cell_type": "code",
   "execution_count": 39,
   "id": "a33ce4b8",
   "metadata": {
    "tags": []
   },
   "outputs": [
    {
     "data": {
      "text/html": [
       "<div>\n",
       "<style scoped>\n",
       "    .dataframe tbody tr th:only-of-type {\n",
       "        vertical-align: middle;\n",
       "    }\n",
       "\n",
       "    .dataframe tbody tr th {\n",
       "        vertical-align: top;\n",
       "    }\n",
       "\n",
       "    .dataframe thead th {\n",
       "        text-align: right;\n",
       "    }\n",
       "</style>\n",
       "<table border=\"1\" class=\"dataframe\">\n",
       "  <thead>\n",
       "    <tr style=\"text-align: right;\">\n",
       "      <th></th>\n",
       "      <th>DEM</th>\n",
       "      <th>Slope</th>\n",
       "      <th>Aspect</th>\n",
       "      <th>Curvature</th>\n",
       "      <th>CN</th>\n",
       "      <th>TWI</th>\n",
       "      <th>Rainfall</th>\n",
       "      <th>LULC</th>\n",
       "      <th>Soil_Text</th>\n",
       "    </tr>\n",
       "  </thead>\n",
       "  <tbody>\n",
       "    <tr>\n",
       "      <th>0</th>\n",
       "      <td>810</td>\n",
       "      <td>4.124518</td>\n",
       "      <td>56.309933</td>\n",
       "      <td>1.28</td>\n",
       "      <td>71</td>\n",
       "      <td>7.651444</td>\n",
       "      <td>8.634620</td>\n",
       "      <td>30</td>\n",
       "      <td>7</td>\n",
       "    </tr>\n",
       "    <tr>\n",
       "      <th>1</th>\n",
       "      <td>798</td>\n",
       "      <td>1.811248</td>\n",
       "      <td>288.434937</td>\n",
       "      <td>-0.64</td>\n",
       "      <td>71</td>\n",
       "      <td>6.457982</td>\n",
       "      <td>9.113000</td>\n",
       "      <td>30</td>\n",
       "      <td>7</td>\n",
       "    </tr>\n",
       "    <tr>\n",
       "      <th>2</th>\n",
       "      <td>783</td>\n",
       "      <td>2.429397</td>\n",
       "      <td>45.000000</td>\n",
       "      <td>-1.28</td>\n",
       "      <td>71</td>\n",
       "      <td>8.626627</td>\n",
       "      <td>14.380471</td>\n",
       "      <td>30</td>\n",
       "      <td>7</td>\n",
       "    </tr>\n",
       "    <tr>\n",
       "      <th>3</th>\n",
       "      <td>845</td>\n",
       "      <td>0.810231</td>\n",
       "      <td>225.000000</td>\n",
       "      <td>-0.00</td>\n",
       "      <td>71</td>\n",
       "      <td>11.018336</td>\n",
       "      <td>9.009209</td>\n",
       "      <td>30</td>\n",
       "      <td>7</td>\n",
       "    </tr>\n",
       "    <tr>\n",
       "      <th>4</th>\n",
       "      <td>803</td>\n",
       "      <td>1.811248</td>\n",
       "      <td>108.434952</td>\n",
       "      <td>-0.64</td>\n",
       "      <td>71</td>\n",
       "      <td>7.151129</td>\n",
       "      <td>11.598495</td>\n",
       "      <td>30</td>\n",
       "      <td>7</td>\n",
       "    </tr>\n",
       "    <tr>\n",
       "      <th>...</th>\n",
       "      <td>...</td>\n",
       "      <td>...</td>\n",
       "      <td>...</td>\n",
       "      <td>...</td>\n",
       "      <td>...</td>\n",
       "      <td>...</td>\n",
       "      <td>...</td>\n",
       "      <td>...</td>\n",
       "      <td>...</td>\n",
       "    </tr>\n",
       "    <tr>\n",
       "      <th>388</th>\n",
       "      <td>719</td>\n",
       "      <td>0.000000</td>\n",
       "      <td>-9999.000000</td>\n",
       "      <td>-0.00</td>\n",
       "      <td>30</td>\n",
       "      <td>9.554776</td>\n",
       "      <td>10.237988</td>\n",
       "      <td>90</td>\n",
       "      <td>1</td>\n",
       "    </tr>\n",
       "    <tr>\n",
       "      <th>389</th>\n",
       "      <td>720</td>\n",
       "      <td>1.811248</td>\n",
       "      <td>161.565048</td>\n",
       "      <td>-0.64</td>\n",
       "      <td>30</td>\n",
       "      <td>6.938687</td>\n",
       "      <td>10.237988</td>\n",
       "      <td>30</td>\n",
       "      <td>1</td>\n",
       "    </tr>\n",
       "    <tr>\n",
       "      <th>390</th>\n",
       "      <td>721</td>\n",
       "      <td>0.000000</td>\n",
       "      <td>-9999.000000</td>\n",
       "      <td>-0.00</td>\n",
       "      <td>58</td>\n",
       "      <td>7.469123</td>\n",
       "      <td>10.237988</td>\n",
       "      <td>40</td>\n",
       "      <td>4</td>\n",
       "    </tr>\n",
       "    <tr>\n",
       "      <th>391</th>\n",
       "      <td>715</td>\n",
       "      <td>0.000000</td>\n",
       "      <td>-9999.000000</td>\n",
       "      <td>-0.00</td>\n",
       "      <td>58</td>\n",
       "      <td>14.062859</td>\n",
       "      <td>14.165248</td>\n",
       "      <td>90</td>\n",
       "      <td>4</td>\n",
       "    </tr>\n",
       "    <tr>\n",
       "      <th>392</th>\n",
       "      <td>716</td>\n",
       "      <td>4.573921</td>\n",
       "      <td>180.000000</td>\n",
       "      <td>-0.00</td>\n",
       "      <td>58</td>\n",
       "      <td>11.423801</td>\n",
       "      <td>14.165248</td>\n",
       "      <td>90</td>\n",
       "      <td>4</td>\n",
       "    </tr>\n",
       "  </tbody>\n",
       "</table>\n",
       "<p>393 rows × 9 columns</p>\n",
       "</div>"
      ],
      "text/plain": [
       "     DEM     Slope       Aspect  Curvature  CN        TWI   Rainfall  LULC  \\\n",
       "0    810  4.124518    56.309933       1.28  71   7.651444   8.634620    30   \n",
       "1    798  1.811248   288.434937      -0.64  71   6.457982   9.113000    30   \n",
       "2    783  2.429397    45.000000      -1.28  71   8.626627  14.380471    30   \n",
       "3    845  0.810231   225.000000      -0.00  71  11.018336   9.009209    30   \n",
       "4    803  1.811248   108.434952      -0.64  71   7.151129  11.598495    30   \n",
       "..   ...       ...          ...        ...  ..        ...        ...   ...   \n",
       "388  719  0.000000 -9999.000000      -0.00  30   9.554776  10.237988    90   \n",
       "389  720  1.811248   161.565048      -0.64  30   6.938687  10.237988    30   \n",
       "390  721  0.000000 -9999.000000      -0.00  58   7.469123  10.237988    40   \n",
       "391  715  0.000000 -9999.000000      -0.00  58  14.062859  14.165248    90   \n",
       "392  716  4.573921   180.000000      -0.00  58  11.423801  14.165248    90   \n",
       "\n",
       "     Soil_Text  \n",
       "0            7  \n",
       "1            7  \n",
       "2            7  \n",
       "3            7  \n",
       "4            7  \n",
       "..         ...  \n",
       "388          1  \n",
       "389          1  \n",
       "390          4  \n",
       "391          4  \n",
       "392          4  \n",
       "\n",
       "[393 rows x 9 columns]"
      ]
     },
     "execution_count": 39,
     "metadata": {},
     "output_type": "execute_result"
    }
   ],
   "source": [
    "X"
   ]
  },
  {
   "cell_type": "code",
   "execution_count": 40,
   "id": "bcd8ccd6",
   "metadata": {
    "tags": []
   },
   "outputs": [
    {
     "data": {
      "text/html": [
       "<style>#sk-container-id-3 {color: black;}#sk-container-id-3 pre{padding: 0;}#sk-container-id-3 div.sk-toggleable {background-color: white;}#sk-container-id-3 label.sk-toggleable__label {cursor: pointer;display: block;width: 100%;margin-bottom: 0;padding: 0.3em;box-sizing: border-box;text-align: center;}#sk-container-id-3 label.sk-toggleable__label-arrow:before {content: \"▸\";float: left;margin-right: 0.25em;color: #696969;}#sk-container-id-3 label.sk-toggleable__label-arrow:hover:before {color: black;}#sk-container-id-3 div.sk-estimator:hover label.sk-toggleable__label-arrow:before {color: black;}#sk-container-id-3 div.sk-toggleable__content {max-height: 0;max-width: 0;overflow: hidden;text-align: left;background-color: #f0f8ff;}#sk-container-id-3 div.sk-toggleable__content pre {margin: 0.2em;color: black;border-radius: 0.25em;background-color: #f0f8ff;}#sk-container-id-3 input.sk-toggleable__control:checked~div.sk-toggleable__content {max-height: 200px;max-width: 100%;overflow: auto;}#sk-container-id-3 input.sk-toggleable__control:checked~label.sk-toggleable__label-arrow:before {content: \"▾\";}#sk-container-id-3 div.sk-estimator input.sk-toggleable__control:checked~label.sk-toggleable__label {background-color: #d4ebff;}#sk-container-id-3 div.sk-label input.sk-toggleable__control:checked~label.sk-toggleable__label {background-color: #d4ebff;}#sk-container-id-3 input.sk-hidden--visually {border: 0;clip: rect(1px 1px 1px 1px);clip: rect(1px, 1px, 1px, 1px);height: 1px;margin: -1px;overflow: hidden;padding: 0;position: absolute;width: 1px;}#sk-container-id-3 div.sk-estimator {font-family: monospace;background-color: #f0f8ff;border: 1px dotted black;border-radius: 0.25em;box-sizing: border-box;margin-bottom: 0.5em;}#sk-container-id-3 div.sk-estimator:hover {background-color: #d4ebff;}#sk-container-id-3 div.sk-parallel-item::after {content: \"\";width: 100%;border-bottom: 1px solid gray;flex-grow: 1;}#sk-container-id-3 div.sk-label:hover label.sk-toggleable__label {background-color: #d4ebff;}#sk-container-id-3 div.sk-serial::before {content: \"\";position: absolute;border-left: 1px solid gray;box-sizing: border-box;top: 0;bottom: 0;left: 50%;z-index: 0;}#sk-container-id-3 div.sk-serial {display: flex;flex-direction: column;align-items: center;background-color: white;padding-right: 0.2em;padding-left: 0.2em;position: relative;}#sk-container-id-3 div.sk-item {position: relative;z-index: 1;}#sk-container-id-3 div.sk-parallel {display: flex;align-items: stretch;justify-content: center;background-color: white;position: relative;}#sk-container-id-3 div.sk-item::before, #sk-container-id-3 div.sk-parallel-item::before {content: \"\";position: absolute;border-left: 1px solid gray;box-sizing: border-box;top: 0;bottom: 0;left: 50%;z-index: -1;}#sk-container-id-3 div.sk-parallel-item {display: flex;flex-direction: column;z-index: 1;position: relative;background-color: white;}#sk-container-id-3 div.sk-parallel-item:first-child::after {align-self: flex-end;width: 50%;}#sk-container-id-3 div.sk-parallel-item:last-child::after {align-self: flex-start;width: 50%;}#sk-container-id-3 div.sk-parallel-item:only-child::after {width: 0;}#sk-container-id-3 div.sk-dashed-wrapped {border: 1px dashed gray;margin: 0 0.4em 0.5em 0.4em;box-sizing: border-box;padding-bottom: 0.4em;background-color: white;}#sk-container-id-3 div.sk-label label {font-family: monospace;font-weight: bold;display: inline-block;line-height: 1.2em;}#sk-container-id-3 div.sk-label-container {text-align: center;}#sk-container-id-3 div.sk-container {/* jupyter's `normalize.less` sets `[hidden] { display: none; }` but bootstrap.min.css set `[hidden] { display: none !important; }` so we also need the `!important` here to be able to override the default hidden behavior on the sphinx rendered scikit-learn.org. See: https://github.com/scikit-learn/scikit-learn/issues/21755 */display: inline-block !important;position: relative;}#sk-container-id-3 div.sk-text-repr-fallback {display: none;}</style><div id=\"sk-container-id-3\" class=\"sk-top-container\"><div class=\"sk-text-repr-fallback\"><pre>SVC(probability=True)</pre><b>In a Jupyter environment, please rerun this cell to show the HTML representation or trust the notebook. <br />On GitHub, the HTML representation is unable to render, please try loading this page with nbviewer.org.</b></div><div class=\"sk-container\" hidden><div class=\"sk-item\"><div class=\"sk-estimator sk-toggleable\"><input class=\"sk-toggleable__control sk-hidden--visually\" id=\"sk-estimator-id-3\" type=\"checkbox\" checked><label for=\"sk-estimator-id-3\" class=\"sk-toggleable__label sk-toggleable__label-arrow\">SVC</label><div class=\"sk-toggleable__content\"><pre>SVC(probability=True)</pre></div></div></div></div></div>"
      ],
      "text/plain": [
       "SVC(probability=True)"
      ]
     },
     "execution_count": 40,
     "metadata": {},
     "output_type": "execute_result"
    }
   ],
   "source": [
    "# SVM\n",
    "from sklearn.svm import SVC\n",
    "model = SVC(kernel='rbf',probability=True) # I am using the default values of the parameters.\n",
    "\n",
    "# Train the model on training data\n",
    "model.fit(X_train, y_train)"
   ]
  },
  {
   "cell_type": "code",
   "execution_count": 41,
   "id": "5e64cc32",
   "metadata": {
    "tags": []
   },
   "outputs": [
    {
     "data": {
      "text/plain": [
       "array([1, 1, 1, 1, 1, 1, 1, 1, 1, 1, 1, 1, 1, 1, 1, 1, 1, 1, 1, 1, 1, 1,\n",
       "       1, 1, 1, 1, 1, 1, 1, 1, 1, 1, 1, 1, 1, 1, 1, 1, 1, 1, 1, 1, 1, 1,\n",
       "       1, 1, 1, 1, 1, 1, 1, 1, 1, 1, 1, 1, 1, 1, 1, 1, 1, 1, 1, 1, 1, 1,\n",
       "       1, 1, 1, 1, 1, 1, 1, 1, 1, 1, 1, 1, 1])"
      ]
     },
     "execution_count": 41,
     "metadata": {},
     "output_type": "execute_result"
    }
   ],
   "source": [
    "# make prediction for the test dataset.\n",
    "prediction = model.predict(X_test)\n",
    "\n",
    "# The prediction values are either 1 (Flooded) or 0 (Non-Flooded) \n",
    "prediction"
   ]
  },
  {
   "cell_type": "code",
   "execution_count": 42,
   "id": "1c8cefd3",
   "metadata": {
    "tags": []
   },
   "outputs": [
    {
     "data": {
      "image/png": "[encoded data removed]",
      "text/plain": [
       "<Figure size 800x800 with 1 Axes>"
      ]
     },
     "metadata": {},
     "output_type": "display_data"
    }
   ],
   "source": [
    "from sklearn.metrics import roc_curve, auc\n",
    "import matplotlib.pyplot as plt\n",
    "\n",
    "# Assuming you have a trained classifier named 'model'\n",
    "y_scores = model.predict_proba(X_test)[:, 1]\n",
    "fpr, tpr, _ = roc_curve(y_test, y_scores)\n",
    "roc_auc = auc(fpr, tpr)\n",
    "\n",
    "# Plot the ROC curve\n",
    "plt.figure(figsize=(8, 8))\n",
    "plt.plot(fpr, tpr, color='darkorange', lw=2, label=f'AUC = {roc_auc:.2f}')\n",
    "plt.plot([0, 1], [0, 1], color='navy', lw=2, linestyle='--')\n",
    "plt.xlabel('False Positive Rate')\n",
    "plt.ylabel('True Positive Rate')\n",
    "plt.title('Receiver Operating Characteristic (ROC) Curve')\n",
    "plt.legend(loc='lower right')\n",
    "plt.show()"
   ]
  },
  {
   "cell_type": "markdown",
   "id": "c2973467",
   "metadata": {},
   "source": [
    "## Map the whole study area"
   ]
  },
  {
   "cell_type": "code",
   "execution_count": 45,
   "id": "b0c3d0b8",
   "metadata": {
    "tags": []
   },
   "outputs": [
    {
     "data": {
      "text/html": [
       "<div>\n",
       "<style scoped>\n",
       "    .dataframe tbody tr th:only-of-type {\n",
       "        vertical-align: middle;\n",
       "    }\n",
       "\n",
       "    .dataframe tbody tr th {\n",
       "        vertical-align: top;\n",
       "    }\n",
       "\n",
       "    .dataframe thead th {\n",
       "        text-align: right;\n",
       "    }\n",
       "</style>\n",
       "<table border=\"1\" class=\"dataframe\">\n",
       "  <thead>\n",
       "    <tr style=\"text-align: right;\">\n",
       "      <th></th>\n",
       "      <th>ID_0</th>\n",
       "      <th>ISO</th>\n",
       "      <th>NAME_0</th>\n",
       "      <th>ID_1</th>\n",
       "      <th>NAME_1</th>\n",
       "      <th>ID_2</th>\n",
       "      <th>NAME_2</th>\n",
       "      <th>ID_3</th>\n",
       "      <th>NAME_3</th>\n",
       "      <th>TYPE_3</th>\n",
       "      <th>...</th>\n",
       "      <th>Slope</th>\n",
       "      <th>Aspect</th>\n",
       "      <th>Curvature</th>\n",
       "      <th>Soil_Test</th>\n",
       "      <th>CN</th>\n",
       "      <th>TWI</th>\n",
       "      <th>Rainfall</th>\n",
       "      <th>LULC</th>\n",
       "      <th>Soil_Text</th>\n",
       "      <th>geometry</th>\n",
       "    </tr>\n",
       "  </thead>\n",
       "  <tbody>\n",
       "    <tr>\n",
       "      <th>0</th>\n",
       "      <td>74</td>\n",
       "      <td>ETH</td>\n",
       "      <td>Ethiopia</td>\n",
       "      <td>2</td>\n",
       "      <td>Afar</td>\n",
       "      <td>10</td>\n",
       "      <td>Zone 3</td>\n",
       "      <td>42</td>\n",
       "      <td>Amibara</td>\n",
       "      <td>Woreda</td>\n",
       "      <td>...</td>\n",
       "      <td>2.290610</td>\n",
       "      <td>270.0</td>\n",
       "      <td>-0.64</td>\n",
       "      <td>0</td>\n",
       "      <td>78</td>\n",
       "      <td>9.954030</td>\n",
       "      <td>9.216515</td>\n",
       "      <td>40</td>\n",
       "      <td>4</td>\n",
       "      <td>POLYGON ((621057.000 1024697.907, 620743.309 1...</td>\n",
       "    </tr>\n",
       "    <tr>\n",
       "      <th>1</th>\n",
       "      <td>74</td>\n",
       "      <td>ETH</td>\n",
       "      <td>Ethiopia</td>\n",
       "      <td>2</td>\n",
       "      <td>Afar</td>\n",
       "      <td>10</td>\n",
       "      <td>Zone 3</td>\n",
       "      <td>42</td>\n",
       "      <td>Amibara</td>\n",
       "      <td>Woreda</td>\n",
       "      <td>...</td>\n",
       "      <td>3.433630</td>\n",
       "      <td>180.0</td>\n",
       "      <td>-0.00</td>\n",
       "      <td>0</td>\n",
       "      <td>78</td>\n",
       "      <td>15.349070</td>\n",
       "      <td>9.216515</td>\n",
       "      <td>40</td>\n",
       "      <td>4</td>\n",
       "      <td>POLYGON ((621057.000 1024697.907, 620743.309 1...</td>\n",
       "    </tr>\n",
       "    <tr>\n",
       "      <th>2</th>\n",
       "      <td>74</td>\n",
       "      <td>ETH</td>\n",
       "      <td>Ethiopia</td>\n",
       "      <td>2</td>\n",
       "      <td>Afar</td>\n",
       "      <td>10</td>\n",
       "      <td>Zone 3</td>\n",
       "      <td>42</td>\n",
       "      <td>Amibara</td>\n",
       "      <td>Woreda</td>\n",
       "      <td>...</td>\n",
       "      <td>0.810231</td>\n",
       "      <td>315.0</td>\n",
       "      <td>-0.00</td>\n",
       "      <td>0</td>\n",
       "      <td>30</td>\n",
       "      <td>11.934627</td>\n",
       "      <td>8.994308</td>\n",
       "      <td>40</td>\n",
       "      <td>1</td>\n",
       "      <td>POLYGON ((621057.000 1024697.907, 620743.309 1...</td>\n",
       "    </tr>\n",
       "    <tr>\n",
       "      <th>3</th>\n",
       "      <td>74</td>\n",
       "      <td>ETH</td>\n",
       "      <td>Ethiopia</td>\n",
       "      <td>2</td>\n",
       "      <td>Afar</td>\n",
       "      <td>10</td>\n",
       "      <td>Zone 3</td>\n",
       "      <td>42</td>\n",
       "      <td>Amibara</td>\n",
       "      <td>Woreda</td>\n",
       "      <td>...</td>\n",
       "      <td>2.429397</td>\n",
       "      <td>225.0</td>\n",
       "      <td>-1.28</td>\n",
       "      <td>0</td>\n",
       "      <td>58</td>\n",
       "      <td>13.936107</td>\n",
       "      <td>9.216515</td>\n",
       "      <td>40</td>\n",
       "      <td>4</td>\n",
       "      <td>POLYGON ((621057.000 1024697.907, 620743.309 1...</td>\n",
       "    </tr>\n",
       "    <tr>\n",
       "      <th>4</th>\n",
       "      <td>74</td>\n",
       "      <td>ETH</td>\n",
       "      <td>Ethiopia</td>\n",
       "      <td>2</td>\n",
       "      <td>Afar</td>\n",
       "      <td>10</td>\n",
       "      <td>Zone 3</td>\n",
       "      <td>42</td>\n",
       "      <td>Amibara</td>\n",
       "      <td>Woreda</td>\n",
       "      <td>...</td>\n",
       "      <td>0.000000</td>\n",
       "      <td>-9999.0</td>\n",
       "      <td>-0.00</td>\n",
       "      <td>0</td>\n",
       "      <td>58</td>\n",
       "      <td>13.726386</td>\n",
       "      <td>8.994308</td>\n",
       "      <td>40</td>\n",
       "      <td>4</td>\n",
       "      <td>POLYGON ((621057.000 1024697.907, 620743.309 1...</td>\n",
       "    </tr>\n",
       "  </tbody>\n",
       "</table>\n",
       "<p>5 rows × 27 columns</p>\n",
       "</div>"
      ],
      "text/plain": [
       "   ID_0  ISO    NAME_0  ID_1 NAME_1  ID_2  NAME_2  ID_3   NAME_3  TYPE_3  ...  \\\n",
       "0    74  ETH  Ethiopia     2   Afar    10  Zone 3    42  Amibara  Woreda  ...   \n",
       "1    74  ETH  Ethiopia     2   Afar    10  Zone 3    42  Amibara  Woreda  ...   \n",
       "2    74  ETH  Ethiopia     2   Afar    10  Zone 3    42  Amibara  Woreda  ...   \n",
       "3    74  ETH  Ethiopia     2   Afar    10  Zone 3    42  Amibara  Woreda  ...   \n",
       "4    74  ETH  Ethiopia     2   Afar    10  Zone 3    42  Amibara  Woreda  ...   \n",
       "\n",
       "      Slope  Aspect  Curvature  Soil_Test  CN        TWI  Rainfall  LULC  \\\n",
       "0  2.290610   270.0      -0.64          0  78   9.954030  9.216515    40   \n",
       "1  3.433630   180.0      -0.00          0  78  15.349070  9.216515    40   \n",
       "2  0.810231   315.0      -0.00          0  30  11.934627  8.994308    40   \n",
       "3  2.429397   225.0      -1.28          0  58  13.936107  9.216515    40   \n",
       "4  0.000000 -9999.0      -0.00          0  58  13.726386  8.994308    40   \n",
       "\n",
       "   Soil_Text                                           geometry  \n",
       "0          4  POLYGON ((621057.000 1024697.907, 620743.309 1...  \n",
       "1          4  POLYGON ((621057.000 1024697.907, 620743.309 1...  \n",
       "2          1  POLYGON ((621057.000 1024697.907, 620743.309 1...  \n",
       "3          4  POLYGON ((621057.000 1024697.907, 620743.309 1...  \n",
       "4          4  POLYGON ((621057.000 1024697.907, 620743.309 1...  \n",
       "\n",
       "[5 rows x 27 columns]"
      ]
     },
     "execution_count": 45,
     "metadata": {},
     "output_type": "execute_result"
    }
   ],
   "source": [
    "# Read shapefile for the whole study area\n",
    "df_SA=gpd.read_file(\"Study_area_AN.shp\")\n",
    "\n",
    "# # Add attribute table from points to study area\n",
    "# df_SA['label']=df['label']\n",
    "# df_SA['DEM']=df['DEM']\n",
    "# df_SA['Slope']=df['Slope']\n",
    "# df_SA['Aspect']=df['Aspect']\n",
    "# df_SA['Curvature']=df['Curvature']\n",
    "# # Aggregate the points in to a single polygon representing the study area\n",
    "# df_SA['geometry']=df.geometry.unary_union.convex_hull\n",
    "\n",
    "df_SA.head() # make sure that the dataset has the same column arrangement as the training dataset"
   ]
  },
  {
   "cell_type": "code",
   "execution_count": 46,
   "id": "cc02a405",
   "metadata": {
    "tags": []
   },
   "outputs": [
    {
     "data": {
      "text/html": [
       "<div>\n",
       "<style scoped>\n",
       "    .dataframe tbody tr th:only-of-type {\n",
       "        vertical-align: middle;\n",
       "    }\n",
       "\n",
       "    .dataframe tbody tr th {\n",
       "        vertical-align: top;\n",
       "    }\n",
       "\n",
       "    .dataframe thead th {\n",
       "        text-align: right;\n",
       "    }\n",
       "</style>\n",
       "<table border=\"1\" class=\"dataframe\">\n",
       "  <thead>\n",
       "    <tr style=\"text-align: right;\">\n",
       "      <th></th>\n",
       "      <th>DEM</th>\n",
       "      <th>Slope</th>\n",
       "      <th>Aspect</th>\n",
       "      <th>Curvature</th>\n",
       "      <th>CN</th>\n",
       "      <th>TWI</th>\n",
       "      <th>Rainfall</th>\n",
       "      <th>LULC</th>\n",
       "      <th>Soil_Text</th>\n",
       "    </tr>\n",
       "  </thead>\n",
       "  <tbody>\n",
       "    <tr>\n",
       "      <th>0</th>\n",
       "      <td>728</td>\n",
       "      <td>2.290610</td>\n",
       "      <td>270.0</td>\n",
       "      <td>-0.64</td>\n",
       "      <td>78</td>\n",
       "      <td>9.954030</td>\n",
       "      <td>9.216515</td>\n",
       "      <td>40</td>\n",
       "      <td>4</td>\n",
       "    </tr>\n",
       "    <tr>\n",
       "      <th>1</th>\n",
       "      <td>729</td>\n",
       "      <td>3.433630</td>\n",
       "      <td>180.0</td>\n",
       "      <td>-0.00</td>\n",
       "      <td>78</td>\n",
       "      <td>15.349070</td>\n",
       "      <td>9.216515</td>\n",
       "      <td>40</td>\n",
       "      <td>4</td>\n",
       "    </tr>\n",
       "    <tr>\n",
       "      <th>2</th>\n",
       "      <td>727</td>\n",
       "      <td>0.810231</td>\n",
       "      <td>315.0</td>\n",
       "      <td>-0.00</td>\n",
       "      <td>30</td>\n",
       "      <td>11.934627</td>\n",
       "      <td>8.994308</td>\n",
       "      <td>40</td>\n",
       "      <td>1</td>\n",
       "    </tr>\n",
       "    <tr>\n",
       "      <th>3</th>\n",
       "      <td>727</td>\n",
       "      <td>2.429397</td>\n",
       "      <td>225.0</td>\n",
       "      <td>-1.28</td>\n",
       "      <td>58</td>\n",
       "      <td>13.936107</td>\n",
       "      <td>9.216515</td>\n",
       "      <td>40</td>\n",
       "      <td>4</td>\n",
       "    </tr>\n",
       "    <tr>\n",
       "      <th>4</th>\n",
       "      <td>728</td>\n",
       "      <td>0.000000</td>\n",
       "      <td>-9999.0</td>\n",
       "      <td>-0.00</td>\n",
       "      <td>58</td>\n",
       "      <td>13.726386</td>\n",
       "      <td>8.994308</td>\n",
       "      <td>40</td>\n",
       "      <td>4</td>\n",
       "    </tr>\n",
       "  </tbody>\n",
       "</table>\n",
       "</div>"
      ],
      "text/plain": [
       "   DEM     Slope  Aspect  Curvature  CN        TWI  Rainfall  LULC  Soil_Text\n",
       "0  728  2.290610   270.0      -0.64  78   9.954030  9.216515    40          4\n",
       "1  729  3.433630   180.0      -0.00  78  15.349070  9.216515    40          4\n",
       "2  727  0.810231   315.0      -0.00  30  11.934627  8.994308    40          1\n",
       "3  727  2.429397   225.0      -1.28  58  13.936107  9.216515    40          4\n",
       "4  728  0.000000 -9999.0      -0.00  58  13.726386  8.994308    40          4"
      ]
     },
     "execution_count": 46,
     "metadata": {},
     "output_type": "execute_result"
    }
   ],
   "source": [
    "X_SA= df_SA.drop(labels = [\"index_righ\",\"Soil_Test\",\"id\",\"label\",\"geometry\",\"NAME_0\",\"ID_0\",\"ISO\",\"ID_1\",\"NAME_1\",\"ID_2\",\"NAME_2\",\"ID_3\",\"NAME_3\",\"TYPE_3\",\"ENGTYPE_3\",\"NL_NAME_3\",\"VARNAME_3\"], axis=1) # we need to remove all the columns except the predictive features\n",
    "X_SA.head()\n"
   ]
  },
  {
   "cell_type": "code",
   "execution_count": 47,
   "id": "53b38396",
   "metadata": {
    "tags": []
   },
   "outputs": [
    {
     "data": {
      "text/plain": [
       "array([1, 1, 1, 1, 1, 1, 1, 1, 1, 1, 1, 1, 1, 1, 1, 1, 1, 1, 1, 1, 1, 1,\n",
       "       1, 1, 1, 1, 1, 1, 1, 1, 1, 1, 1, 1, 1, 1, 1, 1, 1, 1, 1, 1, 1, 1,\n",
       "       1, 1, 1, 1, 1, 1, 1, 1, 1, 1, 1, 1, 1, 1, 1, 1, 1, 1, 1, 1, 1, 1,\n",
       "       1, 1, 1, 1, 1, 1, 1, 1, 1, 1, 1, 1, 1, 1, 1, 1, 1, 1, 1, 1, 1, 1,\n",
       "       1, 1, 1, 1, 1, 1, 1, 1, 1, 1, 1, 1, 1, 1, 1, 1, 1, 1, 1, 1, 1, 1,\n",
       "       1, 1, 1, 1, 1, 1, 1, 1, 1, 1, 1, 1, 1, 1, 1, 1, 1, 1, 1, 1, 1, 1,\n",
       "       1, 1, 1, 1, 1, 1, 1, 1, 1, 1, 1, 1, 1, 1, 1, 1, 1, 1, 1, 1, 1, 1,\n",
       "       1, 1, 1, 1, 1, 1, 1, 1, 1, 1, 1, 1, 1, 1, 1, 1, 1, 1, 1, 1, 1, 1,\n",
       "       1, 1, 1, 1, 1, 1, 1, 1, 1, 1, 1, 1, 1, 1, 1, 1, 1, 1, 1, 1, 1, 1,\n",
       "       1, 1, 1, 1, 1, 1, 1, 1, 1, 1, 1, 1, 1, 1, 1, 1, 1, 1, 1, 1, 1, 1,\n",
       "       1, 1, 1, 1, 1, 1, 1, 1, 1, 1, 1, 1, 1, 1, 1, 1, 1, 1, 1, 1, 1, 1,\n",
       "       1, 1, 1, 1, 1, 1, 1, 1, 1, 1, 1, 1, 1, 1, 1, 1, 1, 1, 1, 1, 1, 1,\n",
       "       1, 1, 1, 1, 1, 1, 1, 1, 1, 1, 1, 1, 1, 1, 1, 1, 1, 1, 1, 1, 1, 1,\n",
       "       1, 1, 1, 1, 1, 1, 1, 1, 1, 1, 1, 1, 1, 1, 1, 1, 1, 1, 1, 1, 1, 1,\n",
       "       1, 1, 1, 1, 1, 1, 1, 1, 1, 1, 1, 1, 1, 1, 1, 1, 1, 1, 1, 1, 1, 1,\n",
       "       1, 1, 1, 1, 1, 1, 1, 1, 1, 1, 1, 1, 1, 1, 1, 1, 1, 1, 1, 1, 1, 1,\n",
       "       1, 1, 1, 1, 1, 1, 1, 1, 1, 1, 1, 1, 1, 1, 1, 1, 1, 1, 1, 1, 1, 1,\n",
       "       1, 1, 1, 1, 1, 1, 1, 1, 1, 1, 1, 1, 1, 1, 1, 1, 1, 1])"
      ]
     },
     "execution_count": 47,
     "metadata": {},
     "output_type": "execute_result"
    }
   ],
   "source": [
    "prediction_SA = model.predict(X_SA) # predict if the location is flooded (1) or not flooded (0)\n",
    "\n",
    "prediction_SA "
   ]
  },
  {
   "cell_type": "code",
   "execution_count": 48,
   "id": "7a7bd0cd",
   "metadata": {
    "tags": []
   },
   "outputs": [
    {
     "data": {
      "text/plain": [
       "array([1, 1, 1, 1, 1, 1, 1, 1, 1, 1, 1, 1, 1, 1, 1, 1, 1, 1, 1, 1, 1, 1,\n",
       "       1, 1, 1, 1, 1, 1, 1, 1, 1, 1, 1, 1, 1, 1, 1, 1, 1, 1, 1, 1, 1, 1,\n",
       "       1, 1, 1, 1, 1, 1, 1, 1, 1, 1, 1, 1, 1, 1, 1, 1, 1, 1, 1, 1, 1, 1,\n",
       "       1, 1, 1, 1, 1, 1, 1, 1, 1, 1, 1, 1, 1, 1, 1, 1, 1, 1, 1, 1, 1, 1,\n",
       "       1, 1, 1, 1, 1, 1, 1, 1, 1, 1, 1, 1, 1, 1, 1, 1, 1, 1, 1, 1, 1, 1,\n",
       "       1, 1, 1, 1, 1, 1, 1, 1, 1, 1, 1, 1, 1, 1, 1, 1, 1, 1, 1, 1, 1, 1,\n",
       "       1, 1, 1, 1, 1, 1, 1, 1, 1, 1, 1, 1, 1, 1, 1, 1, 1, 1, 1, 1, 1, 1,\n",
       "       1, 1, 1, 1, 1, 1, 1, 1, 1, 1, 1, 1, 1, 1, 1, 1, 1, 1, 1, 1, 1, 1,\n",
       "       1, 1, 1, 1, 1, 1, 1, 1, 1, 1, 1, 1, 1, 1, 1, 1, 1, 1, 1, 1, 1, 1,\n",
       "       1, 1, 1, 1, 1, 1, 1, 1, 1, 1, 1, 1, 1, 1, 1, 1, 1, 1, 1, 1, 1, 1,\n",
       "       1, 1, 1, 1, 1, 1, 1, 1, 1, 1, 1, 1, 1, 1, 1, 1, 1, 1, 1, 1, 1, 1,\n",
       "       1, 1, 1, 1, 1, 1, 1, 1, 1, 1, 1, 1, 1, 1, 1, 1, 1, 1, 1, 1, 1, 1,\n",
       "       1, 1, 1, 1, 1, 1, 1, 1, 1, 1, 1, 1, 1, 1, 1, 1, 1, 1, 1, 1, 1, 1,\n",
       "       1, 1, 1, 1, 1, 1, 1, 1, 1, 1, 1, 1, 1, 1, 1, 1, 1, 1, 1, 1, 1, 1,\n",
       "       1, 1, 1, 1, 1, 1, 1, 1, 1, 1, 1, 1, 1, 1, 1, 1, 1, 1, 1, 1, 1, 1,\n",
       "       1, 1, 1, 1, 1, 1, 1, 1, 1, 1, 1, 1, 1, 1, 1, 1, 1, 1, 1, 1, 1, 1,\n",
       "       1, 1, 1, 1, 1, 1, 1, 1, 1, 1, 1, 1, 1, 1, 1, 1, 1, 1, 1, 1, 1, 1,\n",
       "       1, 1, 1, 1, 1, 1, 1, 1, 1, 1, 1, 1, 1, 1, 1, 1, 1, 1])"
      ]
     },
     "execution_count": 48,
     "metadata": {},
     "output_type": "execute_result"
    }
   ],
   "source": [
    "prediction_SA"
   ]
  },
  {
   "cell_type": "code",
   "execution_count": 49,
   "id": "e7841f9a",
   "metadata": {
    "tags": []
   },
   "outputs": [],
   "source": [
    "# ls=prediction_prob[:,1]\n",
    "# ls.shape"
   ]
  },
  {
   "cell_type": "code",
   "execution_count": 50,
   "id": "c79ddbd1",
   "metadata": {
    "tags": []
   },
   "outputs": [
    {
     "name": "stdout",
     "output_type": "stream",
     "text": [
      "              precision    recall  f1-score   support\n",
      "\n",
      " Not Flooded       0.00      0.00      0.00        23\n",
      "     Flooded       0.71      1.00      0.83        56\n",
      "\n",
      "    accuracy                           0.71        79\n",
      "   macro avg       0.35      0.50      0.41        79\n",
      "weighted avg       0.50      0.71      0.59        79\n",
      "\n"
     ]
    },
    {
     "name": "stderr",
     "output_type": "stream",
     "text": [
      "/home/eoafrica/.local/lib/python3.8/site-packages/sklearn/metrics/_classification.py:1471: UndefinedMetricWarning: Precision and F-score are ill-defined and being set to 0.0 in labels with no predicted samples. Use `zero_division` parameter to control this behavior.\n",
      "  _warn_prf(average, modifier, msg_start, len(result))\n",
      "/home/eoafrica/.local/lib/python3.8/site-packages/sklearn/metrics/_classification.py:1471: UndefinedMetricWarning: Precision and F-score are ill-defined and being set to 0.0 in labels with no predicted samples. Use `zero_division` parameter to control this behavior.\n",
      "  _warn_prf(average, modifier, msg_start, len(result))\n",
      "/home/eoafrica/.local/lib/python3.8/site-packages/sklearn/metrics/_classification.py:1471: UndefinedMetricWarning: Precision and F-score are ill-defined and being set to 0.0 in labels with no predicted samples. Use `zero_division` parameter to control this behavior.\n",
      "  _warn_prf(average, modifier, msg_start, len(result))\n"
     ]
    }
   ],
   "source": [
    "# Assuming you have obtained the predicted probabilities in prediction_prob\n",
    "# Set a threshold to convert probabilities to class labels (e.g., 0.5 for binary classification)\n",
    "# threshold = 0.4\n",
    "# prediction = (prediction_prob > threshold).astype(int)\n",
    "\n",
    "# Now you can generate the classification report using the predicted class labels\n",
    "from sklearn.metrics import classification_report\n",
    "target_names = [\"Not Flooded\", \"Flooded\"]\n",
    "print(classification_report(y_test, prediction, target_names=target_names))\n"
   ]
  },
  {
   "cell_type": "code",
   "execution_count": 51,
   "id": "34870e1b",
   "metadata": {
    "tags": []
   },
   "outputs": [
    {
     "ename": "ValueError",
     "evalue": "Length of values (392) does not match length of index (393)",
     "output_type": "error",
     "traceback": [
      "\u001b[0;31m---------------------------------------------------------------------------\u001b[0m",
      "\u001b[0;31mValueError\u001b[0m                                Traceback (most recent call last)",
      "Cell \u001b[0;32mIn[51], line 8\u001b[0m\n\u001b[1;32m      2\u001b[0m prediction_prob\u001b[38;5;241m=\u001b[39mmodel\u001b[38;5;241m.\u001b[39mpredict_proba(X_SA) \u001b[38;5;66;03m# This function return an array with lists \u001b[39;00m\n\u001b[1;32m      3\u001b[0m \u001b[38;5;66;03m# each list has two values [probability of being not flooded , probability of being flooded]\u001b[39;00m\n\u001b[1;32m      4\u001b[0m \n\u001b[1;32m      5\u001b[0m \u001b[38;5;66;03m# We need only the probablity of being flooded\u001b[39;00m\n\u001b[1;32m      6\u001b[0m \u001b[38;5;66;03m# We need to add the value coressponding to each point\u001b[39;00m\n\u001b[0;32m----> 8\u001b[0m \u001b[43mdf\u001b[49m\u001b[43m[\u001b[49m\u001b[38;5;124;43m'\u001b[39;49m\u001b[38;5;124;43mFSM\u001b[39;49m\u001b[38;5;124;43m'\u001b[39;49m\u001b[43m]\u001b[49m\u001b[38;5;241m=\u001b[39m prediction_prob[:,\u001b[38;5;241m1\u001b[39m]\n\u001b[1;32m      9\u001b[0m df[\u001b[38;5;124m'\u001b[39m\u001b[38;5;124mFSM\u001b[39m\u001b[38;5;124m'\u001b[39m]\u001b[38;5;241m.\u001b[39mvalues\n",
      "File \u001b[0;32m/usr/local/lib/python3.8/dist-packages/geopandas/geodataframe.py:1538\u001b[0m, in \u001b[0;36mGeoDataFrame.__setitem__\u001b[0;34m(self, key, value)\u001b[0m\n\u001b[1;32m   1536\u001b[0m     \u001b[38;5;28;01mexcept\u001b[39;00m \u001b[38;5;167;01mTypeError\u001b[39;00m:\n\u001b[1;32m   1537\u001b[0m         warnings\u001b[38;5;241m.\u001b[39mwarn(\u001b[38;5;124m\"\u001b[39m\u001b[38;5;124mGeometry column does not contain geometry.\u001b[39m\u001b[38;5;124m\"\u001b[39m)\n\u001b[0;32m-> 1538\u001b[0m \u001b[38;5;28;43msuper\u001b[39;49m\u001b[43m(\u001b[49m\u001b[43m)\u001b[49m\u001b[38;5;241;43m.\u001b[39;49m\u001b[38;5;21;43m__setitem__\u001b[39;49m\u001b[43m(\u001b[49m\u001b[43mkey\u001b[49m\u001b[43m,\u001b[49m\u001b[43m \u001b[49m\u001b[43mvalue\u001b[49m\u001b[43m)\u001b[49m\n",
      "File \u001b[0;32m/usr/local/lib/python3.8/dist-packages/pandas/core/frame.py:3980\u001b[0m, in \u001b[0;36mDataFrame.__setitem__\u001b[0;34m(self, key, value)\u001b[0m\n\u001b[1;32m   3977\u001b[0m     \u001b[38;5;28mself\u001b[39m\u001b[38;5;241m.\u001b[39m_setitem_array([key], value)\n\u001b[1;32m   3978\u001b[0m \u001b[38;5;28;01melse\u001b[39;00m:\n\u001b[1;32m   3979\u001b[0m     \u001b[38;5;66;03m# set column\u001b[39;00m\n\u001b[0;32m-> 3980\u001b[0m     \u001b[38;5;28;43mself\u001b[39;49m\u001b[38;5;241;43m.\u001b[39;49m\u001b[43m_set_item\u001b[49m\u001b[43m(\u001b[49m\u001b[43mkey\u001b[49m\u001b[43m,\u001b[49m\u001b[43m \u001b[49m\u001b[43mvalue\u001b[49m\u001b[43m)\u001b[49m\n",
      "File \u001b[0;32m/usr/local/lib/python3.8/dist-packages/pandas/core/frame.py:4174\u001b[0m, in \u001b[0;36mDataFrame._set_item\u001b[0;34m(self, key, value)\u001b[0m\n\u001b[1;32m   4164\u001b[0m \u001b[38;5;28;01mdef\u001b[39;00m \u001b[38;5;21m_set_item\u001b[39m(\u001b[38;5;28mself\u001b[39m, key, value) \u001b[38;5;241m-\u001b[39m\u001b[38;5;241m>\u001b[39m \u001b[38;5;28;01mNone\u001b[39;00m:\n\u001b[1;32m   4165\u001b[0m \u001b[38;5;250m    \u001b[39m\u001b[38;5;124;03m\"\"\"\u001b[39;00m\n\u001b[1;32m   4166\u001b[0m \u001b[38;5;124;03m    Add series to DataFrame in specified column.\u001b[39;00m\n\u001b[1;32m   4167\u001b[0m \n\u001b[0;32m   (...)\u001b[0m\n\u001b[1;32m   4172\u001b[0m \u001b[38;5;124;03m    ensure homogeneity.\u001b[39;00m\n\u001b[1;32m   4173\u001b[0m \u001b[38;5;124;03m    \"\"\"\u001b[39;00m\n\u001b[0;32m-> 4174\u001b[0m     value \u001b[38;5;241m=\u001b[39m \u001b[38;5;28;43mself\u001b[39;49m\u001b[38;5;241;43m.\u001b[39;49m\u001b[43m_sanitize_column\u001b[49m\u001b[43m(\u001b[49m\u001b[43mvalue\u001b[49m\u001b[43m)\u001b[49m\n\u001b[1;32m   4176\u001b[0m     \u001b[38;5;28;01mif\u001b[39;00m (\n\u001b[1;32m   4177\u001b[0m         key \u001b[38;5;129;01min\u001b[39;00m \u001b[38;5;28mself\u001b[39m\u001b[38;5;241m.\u001b[39mcolumns\n\u001b[1;32m   4178\u001b[0m         \u001b[38;5;129;01mand\u001b[39;00m value\u001b[38;5;241m.\u001b[39mndim \u001b[38;5;241m==\u001b[39m \u001b[38;5;241m1\u001b[39m\n\u001b[1;32m   4179\u001b[0m         \u001b[38;5;129;01mand\u001b[39;00m \u001b[38;5;129;01mnot\u001b[39;00m is_extension_array_dtype(value)\n\u001b[1;32m   4180\u001b[0m     ):\n\u001b[1;32m   4181\u001b[0m         \u001b[38;5;66;03m# broadcast across multiple columns if necessary\u001b[39;00m\n\u001b[1;32m   4182\u001b[0m         \u001b[38;5;28;01mif\u001b[39;00m \u001b[38;5;129;01mnot\u001b[39;00m \u001b[38;5;28mself\u001b[39m\u001b[38;5;241m.\u001b[39mcolumns\u001b[38;5;241m.\u001b[39mis_unique \u001b[38;5;129;01mor\u001b[39;00m \u001b[38;5;28misinstance\u001b[39m(\u001b[38;5;28mself\u001b[39m\u001b[38;5;241m.\u001b[39mcolumns, MultiIndex):\n",
      "File \u001b[0;32m/usr/local/lib/python3.8/dist-packages/pandas/core/frame.py:4915\u001b[0m, in \u001b[0;36mDataFrame._sanitize_column\u001b[0;34m(self, value)\u001b[0m\n\u001b[1;32m   4912\u001b[0m     \u001b[38;5;28;01mreturn\u001b[39;00m _reindex_for_setitem(Series(value), \u001b[38;5;28mself\u001b[39m\u001b[38;5;241m.\u001b[39mindex)\n\u001b[1;32m   4914\u001b[0m \u001b[38;5;28;01mif\u001b[39;00m is_list_like(value):\n\u001b[0;32m-> 4915\u001b[0m     \u001b[43mcom\u001b[49m\u001b[38;5;241;43m.\u001b[39;49m\u001b[43mrequire_length_match\u001b[49m\u001b[43m(\u001b[49m\u001b[43mvalue\u001b[49m\u001b[43m,\u001b[49m\u001b[43m \u001b[49m\u001b[38;5;28;43mself\u001b[39;49m\u001b[38;5;241;43m.\u001b[39;49m\u001b[43mindex\u001b[49m\u001b[43m)\u001b[49m\n\u001b[1;32m   4916\u001b[0m \u001b[38;5;28;01mreturn\u001b[39;00m sanitize_array(value, \u001b[38;5;28mself\u001b[39m\u001b[38;5;241m.\u001b[39mindex, copy\u001b[38;5;241m=\u001b[39m\u001b[38;5;28;01mTrue\u001b[39;00m, allow_2d\u001b[38;5;241m=\u001b[39m\u001b[38;5;28;01mTrue\u001b[39;00m)\n",
      "File \u001b[0;32m/usr/local/lib/python3.8/dist-packages/pandas/core/common.py:571\u001b[0m, in \u001b[0;36mrequire_length_match\u001b[0;34m(data, index)\u001b[0m\n\u001b[1;32m    567\u001b[0m \u001b[38;5;250m\u001b[39m\u001b[38;5;124;03m\"\"\"\u001b[39;00m\n\u001b[1;32m    568\u001b[0m \u001b[38;5;124;03mCheck the length of data matches the length of the index.\u001b[39;00m\n\u001b[1;32m    569\u001b[0m \u001b[38;5;124;03m\"\"\"\u001b[39;00m\n\u001b[1;32m    570\u001b[0m \u001b[38;5;28;01mif\u001b[39;00m \u001b[38;5;28mlen\u001b[39m(data) \u001b[38;5;241m!=\u001b[39m \u001b[38;5;28mlen\u001b[39m(index):\n\u001b[0;32m--> 571\u001b[0m     \u001b[38;5;28;01mraise\u001b[39;00m \u001b[38;5;167;01mValueError\u001b[39;00m(\n\u001b[1;32m    572\u001b[0m         \u001b[38;5;124m\"\u001b[39m\u001b[38;5;124mLength of values \u001b[39m\u001b[38;5;124m\"\u001b[39m\n\u001b[1;32m    573\u001b[0m         \u001b[38;5;124mf\u001b[39m\u001b[38;5;124m\"\u001b[39m\u001b[38;5;124m(\u001b[39m\u001b[38;5;132;01m{\u001b[39;00m\u001b[38;5;28mlen\u001b[39m(data)\u001b[38;5;132;01m}\u001b[39;00m\u001b[38;5;124m) \u001b[39m\u001b[38;5;124m\"\u001b[39m\n\u001b[1;32m    574\u001b[0m         \u001b[38;5;124m\"\u001b[39m\u001b[38;5;124mdoes not match length of index \u001b[39m\u001b[38;5;124m\"\u001b[39m\n\u001b[1;32m    575\u001b[0m         \u001b[38;5;124mf\u001b[39m\u001b[38;5;124m\"\u001b[39m\u001b[38;5;124m(\u001b[39m\u001b[38;5;132;01m{\u001b[39;00m\u001b[38;5;28mlen\u001b[39m(index)\u001b[38;5;132;01m}\u001b[39;00m\u001b[38;5;124m)\u001b[39m\u001b[38;5;124m\"\u001b[39m\n\u001b[1;32m    576\u001b[0m     )\n",
      "\u001b[0;31mValueError\u001b[0m: Length of values (392) does not match length of index (393)"
     ]
    }
   ],
   "source": [
    "# In order to map the flood susceptibility we need to cacluate the probability of being flooded\n",
    "prediction_prob=model.predict_proba(X_SA) # This function return an array with lists \n",
    "# each list has two values [probability of being not flooded , probability of being flooded]\n",
    "\n",
    "# We need only the probablity of being flooded\n",
    "# We need to add the value coressponding to each point\n",
    "\n",
    "df['FSM']= prediction_prob[:,1]\n",
    "df['FSM'].values"
   ]
  },
  {
   "cell_type": "code",
   "execution_count": 34,
   "id": "47144741",
   "metadata": {
    "tags": []
   },
   "outputs": [],
   "source": [
    "# Save the dataframe tp a shapefile in case of converting the points to raster using QGIS or Arcmap\n",
    "df_SA.to_file(\"FSM.shp\")"
   ]
  },
  {
   "cell_type": "code",
   "execution_count": 35,
   "id": "75c83187",
   "metadata": {
    "tags": []
   },
   "outputs": [],
   "source": [
    "# # Converting the point shapefile to raster.\n",
    "# # We will use the model prediction (column FSM in df_SA to make a raster)\n",
    "# from geocube.api.core import make_geocube\n",
    "# import rasterio as rio\n",
    "\n",
    "# out_grid= make_geocube(vector_data=df_SA, measurements=[\"FSM\"], resolution=(12, 12)) #for most crs negative comes first in resolution\n",
    "# out_grid[\"FSM\"].rio.to_raster(\"Flood_susceptibility_SVM.tif\")\n",
    "from geocube.api.core import make_geocube\n",
    "import rasterio as rio\n",
    "\n",
    "# Assuming 'df_SA' is your GeoDataFrame with a 'FSM' column\n",
    "out_grid = make_geocube(vector_data=df, measurements=[\"FSM\"], resolution=(-12.5, 12.5))\n",
    "\n",
    "# Get the CRS information from the original GeoDataFrame\n",
    "crs = df.crs\n",
    "\n",
    "# Save the raster with proper CRS information\n",
    "out_grid[\"FSM\"].rio.to_raster(\"Flood_susceptibility_SVM2.tif\", crs=crs)"
   ]
  },
  {
   "cell_type": "code",
   "execution_count": 36,
   "id": "81b1809c",
   "metadata": {
    "tags": []
   },
   "outputs": [
    {
     "data": {
      "text/plain": [
       "<matplotlib.collections.QuadMesh at 0x7fe9e85f8a30>"
      ]
     },
     "execution_count": 36,
     "metadata": {},
     "output_type": "execute_result"
    },
    {
     "data": {
      "image/png": "[encoded data removed]",
      "text/plain": [
       "<Figure size 640x480 with 2 Axes>"
      ]
     },
     "metadata": {},
     "output_type": "display_data"
    }
   ],
   "source": [
    "out_grid.FSM.plot()"
   ]
  },
  {
   "cell_type": "code",
   "execution_count": 37,
   "id": "f4273e03",
   "metadata": {
    "tags": []
   },
   "outputs": [],
   "source": [
    "%matplotlib inline\n",
    "\n",
    "import geocube\n",
    "from geocube.api.core import make_geocube\n",
    "\n",
    "geo_grid = make_geocube(\n",
    "    vector_data=df,\n",
    "    measurements=['FSM'],\n",
    "    resolution=(-12.5, 12.5)\n",
    ")"
   ]
  },
  {
   "cell_type": "code",
   "execution_count": 38,
   "id": "f782bfbf",
   "metadata": {
    "tags": []
   },
   "outputs": [
    {
     "data": {
      "image/png": "[encoded data removed]",
      "text/plain": [
       "<Figure size 640x480 with 2 Axes>"
      ]
     },
     "metadata": {},
     "output_type": "display_data"
    }
   ],
   "source": [
    "import matplotlib.pyplot as plt\n",
    "\n",
    "# Set the backend to inline for Jupyter Notebook\n",
    "%matplotlib inline\n",
    "\n",
    "# Plot the 'FSM' measurement directly from the GeoCube\n",
    "geo_grid.FSM.plot(cmap='viridis')  # Adjust the colormap as needed\n",
    "plt.title('FSM Measurement')\n",
    "plt.show()"
   ]
  }
 ],
 "metadata": {
  "kernelspec": {
   "display_name": "Python 3 (ipykernel)",
   "language": "python",
   "name": "python3"
  },
  "language_info": {
   "codemirror_mode": {
    "name": "ipython",
    "version": 3
   },
   "file_extension": ".py",
   "mimetype": "text/x-python",
   "name": "python",
   "nbconvert_exporter": "python",
   "pygments_lexer": "ipython3",
   "version": "3.8.10"
  }
 },
 "nbformat": 4,
 "nbformat_minor": 5
}
