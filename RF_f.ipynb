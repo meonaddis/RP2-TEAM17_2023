{
 "cells": [
  {
   "cell_type": "markdown",
   "metadata": {
    "colab_type": "text",
    "id": "view-in-github"
   },
   "source": [
    "<a href=\"https://colab.research.google.com/github/omarseleem92/flood_susceptibility_mapping/blob/main/RF_2m.ipynb\" target=\"_parent\"><img src=\"https://colab.research.google.com/assets/colab-badge.svg\" alt=\"Open In Colab\"/></a>"
   ]
  },
  {
   "cell_type": "code",
   "execution_count": 1,
   "metadata": {
    "id": "UqiweDj0IJ9r",
    "tags": []
   },
   "outputs": [
    {
     "name": "stdout",
     "output_type": "stream",
     "text": [
      "Defaulting to user installation because normal site-packages is not writeable\n",
      "Requirement already satisfied: pandas in /usr/local/lib/python3.8/dist-packages (1.5.3)\n",
      "Collecting pandas\n",
      "  Downloading pandas-2.0.3-cp38-cp38-manylinux_2_17_x86_64.manylinux2014_x86_64.whl.metadata (18 kB)\n",
      "Requirement already satisfied: python-dateutil>=2.8.2 in /usr/local/lib/python3.8/dist-packages (from pandas) (2.8.2)\n",
      "Requirement already satisfied: pytz>=2020.1 in /usr/local/lib/python3.8/dist-packages (from pandas) (2023.3)\n",
      "Collecting tzdata>=2022.1 (from pandas)\n",
      "  Downloading tzdata-2024.1-py2.py3-none-any.whl.metadata (1.4 kB)\n",
      "Requirement already satisfied: numpy>=1.20.3 in /usr/local/lib/python3.8/dist-packages (from pandas) (1.22.4)\n",
      "Requirement already satisfied: six>=1.5 in /usr/local/lib/python3.8/dist-packages (from python-dateutil>=2.8.2->pandas) (1.16.0)\n",
      "Downloading pandas-2.0.3-cp38-cp38-manylinux_2_17_x86_64.manylinux2014_x86_64.whl (12.4 MB)\n",
      "\u001b[2K   \u001b[90m━━━━━━━━━━━━━━━━━━━━━━━━━━━━━━━━━━━━━━━━\u001b[0m \u001b[32m12.4/12.4 MB\u001b[0m \u001b[31m46.2 MB/s\u001b[0m eta \u001b[36m0:00:00\u001b[0m:00:01\u001b[0m0:01\u001b[0m\n",
      "\u001b[?25hDownloading tzdata-2024.1-py2.py3-none-any.whl (345 kB)\n",
      "\u001b[2K   \u001b[90m━━━━━━━━━━━━━━━━━━━━━━━━━━━━━━━━━━━━━━━━\u001b[0m \u001b[32m345.4/345.4 kB\u001b[0m \u001b[31m8.3 MB/s\u001b[0m eta \u001b[36m0:00:00\u001b[0m:00:01\u001b[0m\n",
      "\u001b[?25hInstalling collected packages: tzdata, pandas\n",
      "Successfully installed pandas-2.0.3 tzdata-2024.1\n"
     ]
    }
   ],
   "source": [
    "!pip install --upgrade pandas\n",
    "## import packages\n",
    "import numpy as np\n",
    "import pandas as pd\n",
    "from matplotlib import pyplot as plt\n",
    "import seaborn as sns\n",
    "import geopandas as gpd"
   ]
  },
  {
   "cell_type": "code",
   "execution_count": 2,
   "metadata": {
    "colab": {
     "base_uri": "https://localhost:8080/",
     "height": 206
    },
    "id": "xWOK0_0nIJ9t",
    "outputId": "e1037dda-26d4-4887-b6ca-0dd808c76e66",
    "tags": []
   },
   "outputs": [
    {
     "data": {
      "text/html": [
       "<div>\n",
       "<style scoped>\n",
       "    .dataframe tbody tr th:only-of-type {\n",
       "        vertical-align: middle;\n",
       "    }\n",
       "\n",
       "    .dataframe tbody tr th {\n",
       "        vertical-align: top;\n",
       "    }\n",
       "\n",
       "    .dataframe thead th {\n",
       "        text-align: right;\n",
       "    }\n",
       "</style>\n",
       "<table border=\"1\" class=\"dataframe\">\n",
       "  <thead>\n",
       "    <tr style=\"text-align: right;\">\n",
       "      <th></th>\n",
       "      <th>id</th>\n",
       "      <th>label</th>\n",
       "      <th>DEM</th>\n",
       "      <th>Slope</th>\n",
       "      <th>Aspect</th>\n",
       "      <th>Curvature</th>\n",
       "      <th>Soil_Test</th>\n",
       "      <th>CN</th>\n",
       "      <th>TWI</th>\n",
       "      <th>Rainfall</th>\n",
       "      <th>LULC</th>\n",
       "      <th>Soil_Text</th>\n",
       "      <th>geometry</th>\n",
       "    </tr>\n",
       "  </thead>\n",
       "  <tbody>\n",
       "    <tr>\n",
       "      <th>0</th>\n",
       "      <td>0</td>\n",
       "      <td>0</td>\n",
       "      <td>810</td>\n",
       "      <td>4.124518</td>\n",
       "      <td>56.309933</td>\n",
       "      <td>1.28</td>\n",
       "      <td>0</td>\n",
       "      <td>71</td>\n",
       "      <td>7.651444</td>\n",
       "      <td>8.634620</td>\n",
       "      <td>30</td>\n",
       "      <td>7</td>\n",
       "      <td>POINT (648355.689 1032128.503)</td>\n",
       "    </tr>\n",
       "    <tr>\n",
       "      <th>1</th>\n",
       "      <td>1</td>\n",
       "      <td>0</td>\n",
       "      <td>798</td>\n",
       "      <td>1.811248</td>\n",
       "      <td>288.434937</td>\n",
       "      <td>-0.64</td>\n",
       "      <td>0</td>\n",
       "      <td>71</td>\n",
       "      <td>6.457982</td>\n",
       "      <td>9.113000</td>\n",
       "      <td>30</td>\n",
       "      <td>7</td>\n",
       "      <td>POINT (652338.758 1039898.468)</td>\n",
       "    </tr>\n",
       "    <tr>\n",
       "      <th>2</th>\n",
       "      <td>2</td>\n",
       "      <td>0</td>\n",
       "      <td>783</td>\n",
       "      <td>2.429397</td>\n",
       "      <td>45.000000</td>\n",
       "      <td>-1.28</td>\n",
       "      <td>0</td>\n",
       "      <td>71</td>\n",
       "      <td>8.626627</td>\n",
       "      <td>14.380471</td>\n",
       "      <td>30</td>\n",
       "      <td>7</td>\n",
       "      <td>POINT (654594.349 1045368.461)</td>\n",
       "    </tr>\n",
       "    <tr>\n",
       "      <th>3</th>\n",
       "      <td>3</td>\n",
       "      <td>0</td>\n",
       "      <td>845</td>\n",
       "      <td>0.810231</td>\n",
       "      <td>225.000000</td>\n",
       "      <td>-0.00</td>\n",
       "      <td>0</td>\n",
       "      <td>71</td>\n",
       "      <td>11.018336</td>\n",
       "      <td>9.009209</td>\n",
       "      <td>30</td>\n",
       "      <td>7</td>\n",
       "      <td>POINT (653891.492 1031276.320)</td>\n",
       "    </tr>\n",
       "    <tr>\n",
       "      <th>4</th>\n",
       "      <td>4</td>\n",
       "      <td>0</td>\n",
       "      <td>803</td>\n",
       "      <td>1.811248</td>\n",
       "      <td>108.434952</td>\n",
       "      <td>-0.64</td>\n",
       "      <td>0</td>\n",
       "      <td>71</td>\n",
       "      <td>7.151129</td>\n",
       "      <td>11.598495</td>\n",
       "      <td>30</td>\n",
       "      <td>7</td>\n",
       "      <td>POINT (657859.303 1042542.024)</td>\n",
       "    </tr>\n",
       "  </tbody>\n",
       "</table>\n",
       "</div>"
      ],
      "text/plain": [
       "   id  label  DEM     Slope      Aspect  Curvature  Soil_Test  CN        TWI  \\\n",
       "0   0      0  810  4.124518   56.309933       1.28          0  71   7.651444   \n",
       "1   1      0  798  1.811248  288.434937      -0.64          0  71   6.457982   \n",
       "2   2      0  783  2.429397   45.000000      -1.28          0  71   8.626627   \n",
       "3   3      0  845  0.810231  225.000000      -0.00          0  71  11.018336   \n",
       "4   4      0  803  1.811248  108.434952      -0.64          0  71   7.151129   \n",
       "\n",
       "    Rainfall  LULC  Soil_Text                        geometry  \n",
       "0   8.634620    30          7  POINT (648355.689 1032128.503)  \n",
       "1   9.113000    30          7  POINT (652338.758 1039898.468)  \n",
       "2  14.380471    30          7  POINT (654594.349 1045368.461)  \n",
       "3   9.009209    30          7  POINT (653891.492 1031276.320)  \n",
       "4  11.598495    30          7  POINT (657859.303 1042542.024)  "
      ]
     },
     "execution_count": 2,
     "metadata": {},
     "output_type": "execute_result"
    }
   ],
   "source": [
    "# Read the shapefile\n",
    "# Flooded = 0 indicates not flooded location while Flooded = 1 indicates flooded location\n",
    "## Every location has values for the 11 flood predictory features.\n",
    "df=gpd.read_file(\"points_data.shp\") #(\"/content/drive/MyDrive/RF_model_Flood_susceptibility/Merged_RF.shp\")\n",
    "df.head()"
   ]
  },
  {
   "cell_type": "code",
   "execution_count": 3,
   "metadata": {
    "tags": []
   },
   "outputs": [],
   "source": [
    "df = df.drop(labels = [\"id\"], axis=1) "
   ]
  },
  {
   "cell_type": "code",
   "execution_count": 4,
   "metadata": {
    "colab": {
     "base_uri": "https://localhost:8080/"
    },
    "id": "jUp_4ZH-IJ9v",
    "outputId": "a58f4415-221a-4534-fe01-54ee1e43f0e8",
    "tags": []
   },
   "outputs": [
    {
     "name": "stdout",
     "output_type": "stream",
     "text": [
      "           count          mean           std           min         25%  \\\n",
      "label      393.0  6.921120e-01  4.622084e-01  0.000000e+00    0.000000   \n",
      "DEM        393.0  7.298244e+02  4.759590e+01  6.960000e+02  706.000000   \n",
      "Slope      393.0  4.342038e+00  5.112538e+00  0.000000e+00    1.811248   \n",
      "Aspect     393.0 -7.185369e+02  2.907206e+03 -9.999000e+03   71.565048   \n",
      "Curvature  393.0  7.002544e-02  8.639245e-01 -2.560000e+00   -0.640000   \n",
      "Soil_Test  393.0  0.000000e+00  0.000000e+00  0.000000e+00    0.000000   \n",
      "CN         393.0  6.035623e+01  1.044618e+01  3.000000e+01   58.000000   \n",
      "TWI        393.0 -1.731717e+20  2.424395e+21 -3.402823e+22    6.958297   \n",
      "Rainfall   393.0  1.191060e+01  2.368298e+00  6.662645e+00   10.237988   \n",
      "LULC       393.0  4.208651e+01  2.634587e+01  2.000000e+01   20.000000   \n",
      "Soil_Text  393.0  4.175573e+00  1.418613e+00  1.000000e+00    4.000000   \n",
      "\n",
      "                  50%         75%          max  \n",
      "label        1.000000    1.000000     1.000000  \n",
      "DEM        715.000000  728.000000  1042.000000  \n",
      "Slope        2.918995    4.573921    36.269638  \n",
      "Aspect     180.000000  270.000000   360.000000  \n",
      "Curvature    0.000000    0.640000     2.560000  \n",
      "Soil_Test    0.000000    0.000000     0.000000  \n",
      "CN          58.000000   66.000000    85.000000  \n",
      "TWI          7.978408   11.399216    18.514156  \n",
      "Rainfall    12.190639   13.552235    16.683786  \n",
      "LULC        30.000000   40.000000    90.000000  \n",
      "Soil_Text    4.000000    4.000000     7.000000  \n"
     ]
    }
   ],
   "source": [
    "print(df.describe().T)  #Values are already normalized in GIS before fitting. "
   ]
  },
  {
   "cell_type": "code",
   "execution_count": 5,
   "metadata": {
    "colab": {
     "base_uri": "https://localhost:8080/"
    },
    "id": "L-cliJ3TIJ9w",
    "outputId": "a499259b-dca4-412c-fd42-ce6d5f816a28",
    "tags": []
   },
   "outputs": [
    {
     "name": "stdout",
     "output_type": "stream",
     "text": [
      "label        0\n",
      "DEM          0\n",
      "Slope        0\n",
      "Aspect       0\n",
      "Curvature    0\n",
      "Soil_Test    0\n",
      "CN           0\n",
      "TWI          0\n",
      "Rainfall     0\n",
      "LULC         0\n",
      "Soil_Text    0\n",
      "geometry     0\n",
      "dtype: int64\n"
     ]
    }
   ],
   "source": [
    "## Check if there is null values\n",
    "print(df.isnull().sum())\n",
    "#df = df.dropna()"
   ]
  },
  {
   "cell_type": "code",
   "execution_count": 6,
   "metadata": {
    "colab": {
     "base_uri": "https://localhost:8080/",
     "height": 296
    },
    "id": "vraviceAIJ9x",
    "outputId": "4f478364-c098-49f6-9651-9dc3bf885030",
    "tags": []
   },
   "outputs": [
    {
     "data": {
      "text/plain": [
       "<Axes: xlabel='label', ylabel='count'>"
      ]
     },
     "execution_count": 6,
     "metadata": {},
     "output_type": "execute_result"
    },
    {
     "data": {
      "image/png": "[encoded data removed]",
      "text/plain": [
       "<Figure size 640x480 with 1 Axes>"
      ]
     },
     "metadata": {},
     "output_type": "display_data"
    }
   ],
   "source": [
    "#Understand the data \n",
    "# The dataset includes the same number of flooded and not flooded locations\n",
    "sns.countplot(x=\"label\", data=df) #0 - Notflooded   1 - Flooded"
   ]
  },
  {
   "cell_type": "code",
   "execution_count": 7,
   "metadata": {
    "colab": {
     "base_uri": "https://localhost:8080/",
     "height": 662
    },
    "id": "lgX_IWDnIJ9y",
    "outputId": "187b2b63-a24b-4b06-a089-9b7c9d59c753",
    "tags": []
   },
   "outputs": [
    {
     "data": {
      "text/plain": [
       "<Axes: >"
      ]
     },
     "execution_count": 7,
     "metadata": {},
     "output_type": "execute_result"
    },
    {
     "data": {
      "image/png": "[encoded data removed]",
      "text/plain": [
       "<Figure size 1000x1000 with 2 Axes>"
      ]
     },
     "metadata": {},
     "output_type": "display_data"
    }
   ],
   "source": [
    "# Correlation between the input features\n",
    "# plt.show()\n",
    "numeric_df = df.select_dtypes(include=['float64', 'int64'])\n",
    "\n",
    "# Compute the correlation matrix\n",
    "corrMatrix = numeric_df.corr()\n",
    "\n",
    "# Now you can create the heatmap\n",
    "fig, ax = plt.subplots(figsize=(10,10))\n",
    "sns.heatmap(corrMatrix, annot=False, linewidths=.5, ax=ax)"
   ]
  },
  {
   "cell_type": "code",
   "execution_count": 8,
   "metadata": {
    "id": "AzsluB32IJ9z",
    "tags": []
   },
   "outputs": [],
   "source": [
    "#Define the dependent variable that needs to be predicted (labels)\n",
    "Y = df[\"label\"].values\n"
   ]
  },
  {
   "cell_type": "code",
   "execution_count": 9,
   "metadata": {
    "id": "qMYgxAMBIJ90",
    "tags": []
   },
   "outputs": [],
   "source": [
    "#Define the independent variables. \n",
    "X = df.drop(labels = ['label','Soil_Test','geometry'], axis=1) \n",
    "features_list = list(X.columns)  #List features so we can rank them later.\n",
    "#from sklearn.preprocessing import normalize\n",
    "# Only needed if the data was not normalized\n",
    "#X = normalize(X, axis=1)"
   ]
  },
  {
   "cell_type": "code",
   "execution_count": 10,
   "metadata": {
    "colab": {
     "base_uri": "https://localhost:8080/",
     "height": 424
    },
    "id": "PQzEFF6DIJ91",
    "outputId": "c1e3c714-4d0c-4220-b2b8-e6c98036662d",
    "tags": []
   },
   "outputs": [
    {
     "data": {
      "text/html": [
       "<div>\n",
       "<style scoped>\n",
       "    .dataframe tbody tr th:only-of-type {\n",
       "        vertical-align: middle;\n",
       "    }\n",
       "\n",
       "    .dataframe tbody tr th {\n",
       "        vertical-align: top;\n",
       "    }\n",
       "\n",
       "    .dataframe thead th {\n",
       "        text-align: right;\n",
       "    }\n",
       "</style>\n",
       "<table border=\"1\" class=\"dataframe\">\n",
       "  <thead>\n",
       "    <tr style=\"text-align: right;\">\n",
       "      <th></th>\n",
       "      <th>DEM</th>\n",
       "      <th>Slope</th>\n",
       "      <th>Aspect</th>\n",
       "      <th>Curvature</th>\n",
       "      <th>CN</th>\n",
       "      <th>TWI</th>\n",
       "      <th>Rainfall</th>\n",
       "      <th>LULC</th>\n",
       "      <th>Soil_Text</th>\n",
       "    </tr>\n",
       "  </thead>\n",
       "  <tbody>\n",
       "    <tr>\n",
       "      <th>0</th>\n",
       "      <td>810</td>\n",
       "      <td>4.124518</td>\n",
       "      <td>56.309933</td>\n",
       "      <td>1.28</td>\n",
       "      <td>71</td>\n",
       "      <td>7.651444</td>\n",
       "      <td>8.634620</td>\n",
       "      <td>30</td>\n",
       "      <td>7</td>\n",
       "    </tr>\n",
       "    <tr>\n",
       "      <th>1</th>\n",
       "      <td>798</td>\n",
       "      <td>1.811248</td>\n",
       "      <td>288.434937</td>\n",
       "      <td>-0.64</td>\n",
       "      <td>71</td>\n",
       "      <td>6.457982</td>\n",
       "      <td>9.113000</td>\n",
       "      <td>30</td>\n",
       "      <td>7</td>\n",
       "    </tr>\n",
       "    <tr>\n",
       "      <th>2</th>\n",
       "      <td>783</td>\n",
       "      <td>2.429397</td>\n",
       "      <td>45.000000</td>\n",
       "      <td>-1.28</td>\n",
       "      <td>71</td>\n",
       "      <td>8.626627</td>\n",
       "      <td>14.380471</td>\n",
       "      <td>30</td>\n",
       "      <td>7</td>\n",
       "    </tr>\n",
       "    <tr>\n",
       "      <th>3</th>\n",
       "      <td>845</td>\n",
       "      <td>0.810231</td>\n",
       "      <td>225.000000</td>\n",
       "      <td>-0.00</td>\n",
       "      <td>71</td>\n",
       "      <td>11.018336</td>\n",
       "      <td>9.009209</td>\n",
       "      <td>30</td>\n",
       "      <td>7</td>\n",
       "    </tr>\n",
       "    <tr>\n",
       "      <th>4</th>\n",
       "      <td>803</td>\n",
       "      <td>1.811248</td>\n",
       "      <td>108.434952</td>\n",
       "      <td>-0.64</td>\n",
       "      <td>71</td>\n",
       "      <td>7.151129</td>\n",
       "      <td>11.598495</td>\n",
       "      <td>30</td>\n",
       "      <td>7</td>\n",
       "    </tr>\n",
       "    <tr>\n",
       "      <th>...</th>\n",
       "      <td>...</td>\n",
       "      <td>...</td>\n",
       "      <td>...</td>\n",
       "      <td>...</td>\n",
       "      <td>...</td>\n",
       "      <td>...</td>\n",
       "      <td>...</td>\n",
       "      <td>...</td>\n",
       "      <td>...</td>\n",
       "    </tr>\n",
       "    <tr>\n",
       "      <th>388</th>\n",
       "      <td>719</td>\n",
       "      <td>0.000000</td>\n",
       "      <td>-9999.000000</td>\n",
       "      <td>-0.00</td>\n",
       "      <td>30</td>\n",
       "      <td>9.554776</td>\n",
       "      <td>10.237988</td>\n",
       "      <td>90</td>\n",
       "      <td>1</td>\n",
       "    </tr>\n",
       "    <tr>\n",
       "      <th>389</th>\n",
       "      <td>720</td>\n",
       "      <td>1.811248</td>\n",
       "      <td>161.565048</td>\n",
       "      <td>-0.64</td>\n",
       "      <td>30</td>\n",
       "      <td>6.938687</td>\n",
       "      <td>10.237988</td>\n",
       "      <td>30</td>\n",
       "      <td>1</td>\n",
       "    </tr>\n",
       "    <tr>\n",
       "      <th>390</th>\n",
       "      <td>721</td>\n",
       "      <td>0.000000</td>\n",
       "      <td>-9999.000000</td>\n",
       "      <td>-0.00</td>\n",
       "      <td>58</td>\n",
       "      <td>7.469123</td>\n",
       "      <td>10.237988</td>\n",
       "      <td>40</td>\n",
       "      <td>4</td>\n",
       "    </tr>\n",
       "    <tr>\n",
       "      <th>391</th>\n",
       "      <td>715</td>\n",
       "      <td>0.000000</td>\n",
       "      <td>-9999.000000</td>\n",
       "      <td>-0.00</td>\n",
       "      <td>58</td>\n",
       "      <td>14.062859</td>\n",
       "      <td>14.165248</td>\n",
       "      <td>90</td>\n",
       "      <td>4</td>\n",
       "    </tr>\n",
       "    <tr>\n",
       "      <th>392</th>\n",
       "      <td>716</td>\n",
       "      <td>4.573921</td>\n",
       "      <td>180.000000</td>\n",
       "      <td>-0.00</td>\n",
       "      <td>58</td>\n",
       "      <td>11.423801</td>\n",
       "      <td>14.165248</td>\n",
       "      <td>90</td>\n",
       "      <td>4</td>\n",
       "    </tr>\n",
       "  </tbody>\n",
       "</table>\n",
       "<p>393 rows × 9 columns</p>\n",
       "</div>"
      ],
      "text/plain": [
       "     DEM     Slope       Aspect  Curvature  CN        TWI   Rainfall  LULC  \\\n",
       "0    810  4.124518    56.309933       1.28  71   7.651444   8.634620    30   \n",
       "1    798  1.811248   288.434937      -0.64  71   6.457982   9.113000    30   \n",
       "2    783  2.429397    45.000000      -1.28  71   8.626627  14.380471    30   \n",
       "3    845  0.810231   225.000000      -0.00  71  11.018336   9.009209    30   \n",
       "4    803  1.811248   108.434952      -0.64  71   7.151129  11.598495    30   \n",
       "..   ...       ...          ...        ...  ..        ...        ...   ...   \n",
       "388  719  0.000000 -9999.000000      -0.00  30   9.554776  10.237988    90   \n",
       "389  720  1.811248   161.565048      -0.64  30   6.938687  10.237988    30   \n",
       "390  721  0.000000 -9999.000000      -0.00  58   7.469123  10.237988    40   \n",
       "391  715  0.000000 -9999.000000      -0.00  58  14.062859  14.165248    90   \n",
       "392  716  4.573921   180.000000      -0.00  58  11.423801  14.165248    90   \n",
       "\n",
       "     Soil_Text  \n",
       "0            7  \n",
       "1            7  \n",
       "2            7  \n",
       "3            7  \n",
       "4            7  \n",
       "..         ...  \n",
       "388          1  \n",
       "389          1  \n",
       "390          4  \n",
       "391          4  \n",
       "392          4  \n",
       "\n",
       "[393 rows x 9 columns]"
      ]
     },
     "execution_count": 10,
     "metadata": {},
     "output_type": "execute_result"
    }
   ],
   "source": [
    "# the independent variables\n",
    "X"
   ]
  },
  {
   "cell_type": "code",
   "execution_count": 11,
   "metadata": {
    "colab": {
     "base_uri": "https://localhost:8080/"
    },
    "id": "VbbTSOQZVLh4",
    "outputId": "ffbb8ef7-c3b1-4ec4-e364-720ec4b3070c",
    "tags": []
   },
   "outputs": [
    {
     "data": {
      "text/plain": [
       "array([0, 0, 0, 0, 0, 0, 0, 0, 0, 0, 0, 0, 0, 0, 0, 0, 0, 0, 0, 0, 0, 0,\n",
       "       0, 0, 0, 0, 0, 0, 0, 0, 0, 0, 0, 0, 0, 0, 0, 0, 0, 0, 0, 0, 0, 0,\n",
       "       0, 0, 0, 0, 0, 0, 0, 0, 0, 0, 0, 0, 0, 0, 0, 0, 0, 0, 0, 0, 0, 0,\n",
       "       0, 0, 0, 0, 0, 0, 0, 0, 0, 0, 0, 0, 0, 0, 0, 0, 0, 0, 0, 0, 0, 0,\n",
       "       0, 0, 0, 0, 0, 0, 0, 0, 0, 0, 0, 0, 0, 0, 0, 0, 0, 0, 0, 0, 0, 0,\n",
       "       0, 0, 0, 0, 0, 0, 0, 0, 0, 0, 0, 1, 1, 1, 1, 1, 1, 1, 1, 1, 1, 1,\n",
       "       1, 1, 1, 1, 1, 1, 1, 1, 1, 1, 1, 1, 1, 1, 1, 1, 1, 1, 1, 1, 1, 1,\n",
       "       1, 1, 1, 1, 1, 1, 1, 1, 1, 1, 1, 1, 1, 1, 1, 1, 1, 1, 1, 1, 1, 1,\n",
       "       1, 1, 1, 1, 1, 1, 1, 1, 1, 1, 1, 1, 1, 1, 1, 1, 1, 1, 1, 1, 1, 1,\n",
       "       1, 1, 1, 1, 1, 1, 1, 1, 1, 1, 1, 1, 1, 1, 1, 1, 1, 1, 1, 1, 1, 1,\n",
       "       1, 1, 1, 1, 1, 1, 1, 1, 1, 1, 1, 1, 1, 1, 1, 1, 1, 1, 1, 1, 1, 1,\n",
       "       1, 1, 1, 1, 1, 1, 1, 1, 1, 1, 1, 1, 1, 1, 1, 1, 1, 1, 1, 1, 1, 1,\n",
       "       1, 1, 1, 1, 1, 1, 1, 1, 1, 1, 1, 1, 1, 1, 1, 1, 1, 1, 1, 1, 1, 1,\n",
       "       1, 1, 1, 1, 1, 1, 1, 1, 1, 1, 1, 1, 1, 1, 1, 1, 1, 1, 1, 1, 1, 1,\n",
       "       1, 1, 1, 1, 1, 1, 1, 1, 1, 1, 1, 1, 1, 1, 1, 1, 1, 1, 1, 1, 1, 1,\n",
       "       1, 1, 1, 1, 1, 1, 1, 1, 1, 1, 1, 1, 1, 1, 1, 1, 1, 1, 1, 1, 1, 1,\n",
       "       1, 1, 1, 1, 1, 1, 1, 1, 1, 1, 1, 1, 1, 1, 1, 1, 1, 1, 1, 1, 1, 1,\n",
       "       1, 1, 1, 1, 1, 1, 1, 1, 1, 1, 1, 1, 1, 1, 1, 1, 1, 1, 1])"
      ]
     },
     "execution_count": 11,
     "metadata": {},
     "output_type": "execute_result"
    }
   ],
   "source": [
    "# the dependent variable\n",
    "Y"
   ]
  },
  {
   "cell_type": "code",
   "execution_count": 12,
   "metadata": {
    "id": "JvSaaEUVMw3m",
    "tags": []
   },
   "outputs": [],
   "source": [
    "#Split data into train, validation and test to verify accuracy after fitting the model. \n",
    "# Firstly split the data into train_validation and test datasets then split the train_validation dataset into train and validation datasets.\n",
    "# The training dataset is used to train the model, the validation dataset is used for hyperparamter tuning and the testing dataset is used to test the model.\n",
    "# It is recommended to test the model with a data that the model hasn't seen in the training process\n",
    "from sklearn.model_selection import train_test_split\n",
    "X_train_val, X_test, y_train_val, y_test = train_test_split(X, Y, test_size=0.2,shuffle=True, random_state=124)\n"
   ]
  },
  {
   "cell_type": "code",
   "execution_count": 13,
   "metadata": {
    "id": "msedWfEGOpKP",
    "tags": []
   },
   "outputs": [],
   "source": [
    "X_train, X_val, y_train, y_val = train_test_split(X_train_val, y_train_val, test_size=0.25,shuffle=True, random_state=124)"
   ]
  },
  {
   "cell_type": "code",
   "execution_count": 14,
   "metadata": {
    "id": "dfsttUO5IJ92",
    "tags": []
   },
   "outputs": [],
   "source": [
    "#RANDOM FOREST\n",
    "from sklearn.ensemble import RandomForestClassifier\n",
    "model = RandomForestClassifier(random_state = 124)"
   ]
  },
  {
   "cell_type": "code",
   "execution_count": 15,
   "metadata": {
    "colab": {
     "base_uri": "https://localhost:8080/"
    },
    "id": "7WK0bUaYIJ93",
    "outputId": "b190724d-bc28-450d-ab2b-75b0a80a0b27",
    "tags": []
   },
   "outputs": [
    {
     "data": {
      "text/html": [
       "<style>#sk-container-id-1 {color: black;background-color: white;}#sk-container-id-1 pre{padding: 0;}#sk-container-id-1 div.sk-toggleable {background-color: white;}#sk-container-id-1 label.sk-toggleable__label {cursor: pointer;display: block;width: 100%;margin-bottom: 0;padding: 0.3em;box-sizing: border-box;text-align: center;}#sk-container-id-1 label.sk-toggleable__label-arrow:before {content: \"▸\";float: left;margin-right: 0.25em;color: #696969;}#sk-container-id-1 label.sk-toggleable__label-arrow:hover:before {color: black;}#sk-container-id-1 div.sk-estimator:hover label.sk-toggleable__label-arrow:before {color: black;}#sk-container-id-1 div.sk-toggleable__content {max-height: 0;max-width: 0;overflow: hidden;text-align: left;background-color: #f0f8ff;}#sk-container-id-1 div.sk-toggleable__content pre {margin: 0.2em;color: black;border-radius: 0.25em;background-color: #f0f8ff;}#sk-container-id-1 input.sk-toggleable__control:checked~div.sk-toggleable__content {max-height: 200px;max-width: 100%;overflow: auto;}#sk-container-id-1 input.sk-toggleable__control:checked~label.sk-toggleable__label-arrow:before {content: \"▾\";}#sk-container-id-1 div.sk-estimator input.sk-toggleable__control:checked~label.sk-toggleable__label {background-color: #d4ebff;}#sk-container-id-1 div.sk-label input.sk-toggleable__control:checked~label.sk-toggleable__label {background-color: #d4ebff;}#sk-container-id-1 input.sk-hidden--visually {border: 0;clip: rect(1px 1px 1px 1px);clip: rect(1px, 1px, 1px, 1px);height: 1px;margin: -1px;overflow: hidden;padding: 0;position: absolute;width: 1px;}#sk-container-id-1 div.sk-estimator {font-family: monospace;background-color: #f0f8ff;border: 1px dotted black;border-radius: 0.25em;box-sizing: border-box;margin-bottom: 0.5em;}#sk-container-id-1 div.sk-estimator:hover {background-color: #d4ebff;}#sk-container-id-1 div.sk-parallel-item::after {content: \"\";width: 100%;border-bottom: 1px solid gray;flex-grow: 1;}#sk-container-id-1 div.sk-label:hover label.sk-toggleable__label {background-color: #d4ebff;}#sk-container-id-1 div.sk-serial::before {content: \"\";position: absolute;border-left: 1px solid gray;box-sizing: border-box;top: 0;bottom: 0;left: 50%;z-index: 0;}#sk-container-id-1 div.sk-serial {display: flex;flex-direction: column;align-items: center;background-color: white;padding-right: 0.2em;padding-left: 0.2em;position: relative;}#sk-container-id-1 div.sk-item {position: relative;z-index: 1;}#sk-container-id-1 div.sk-parallel {display: flex;align-items: stretch;justify-content: center;background-color: white;position: relative;}#sk-container-id-1 div.sk-item::before, #sk-container-id-1 div.sk-parallel-item::before {content: \"\";position: absolute;border-left: 1px solid gray;box-sizing: border-box;top: 0;bottom: 0;left: 50%;z-index: -1;}#sk-container-id-1 div.sk-parallel-item {display: flex;flex-direction: column;z-index: 1;position: relative;background-color: white;}#sk-container-id-1 div.sk-parallel-item:first-child::after {align-self: flex-end;width: 50%;}#sk-container-id-1 div.sk-parallel-item:last-child::after {align-self: flex-start;width: 50%;}#sk-container-id-1 div.sk-parallel-item:only-child::after {width: 0;}#sk-container-id-1 div.sk-dashed-wrapped {border: 1px dashed gray;margin: 0 0.4em 0.5em 0.4em;box-sizing: border-box;padding-bottom: 0.4em;background-color: white;}#sk-container-id-1 div.sk-label label {font-family: monospace;font-weight: bold;display: inline-block;line-height: 1.2em;}#sk-container-id-1 div.sk-label-container {text-align: center;}#sk-container-id-1 div.sk-container {/* jupyter's `normalize.less` sets `[hidden] { display: none; }` but bootstrap.min.css set `[hidden] { display: none !important; }` so we also need the `!important` here to be able to override the default hidden behavior on the sphinx rendered scikit-learn.org. See: https://github.com/scikit-learn/scikit-learn/issues/21755 */display: inline-block !important;position: relative;}#sk-container-id-1 div.sk-text-repr-fallback {display: none;}</style><div id=\"sk-container-id-1\" class=\"sk-top-container\"><div class=\"sk-text-repr-fallback\"><pre>RandomForestClassifier(random_state=124)</pre><b>In a Jupyter environment, please rerun this cell to show the HTML representation or trust the notebook. <br />On GitHub, the HTML representation is unable to render, please try loading this page with nbviewer.org.</b></div><div class=\"sk-container\" hidden><div class=\"sk-item\"><div class=\"sk-estimator sk-toggleable\"><input class=\"sk-toggleable__control sk-hidden--visually\" id=\"sk-estimator-id-1\" type=\"checkbox\" checked><label for=\"sk-estimator-id-1\" class=\"sk-toggleable__label sk-toggleable__label-arrow\">RandomForestClassifier</label><div class=\"sk-toggleable__content\"><pre>RandomForestClassifier(random_state=124)</pre></div></div></div></div></div>"
      ],
      "text/plain": [
       "RandomForestClassifier(random_state=124)"
      ]
     },
     "execution_count": 15,
     "metadata": {},
     "output_type": "execute_result"
    }
   ],
   "source": [
    "# Train the model on training data\n",
    "model.fit(X_train, y_train)"
   ]
  },
  {
   "cell_type": "code",
   "execution_count": 16,
   "metadata": {
    "id": "rpC_2uSHIJ93",
    "tags": []
   },
   "outputs": [],
   "source": [
    "# Model prediction\n",
    "prediction = model.predict(X_test)"
   ]
  },
  {
   "cell_type": "code",
   "execution_count": 17,
   "metadata": {
    "colab": {
     "base_uri": "https://localhost:8080/"
    },
    "id": "Frz3lKefIJ94",
    "outputId": "a6f0f5fc-a933-4b39-e173-99f716697cb2",
    "tags": []
   },
   "outputs": [
    {
     "data": {
      "text/plain": [
       "array([1, 1, 1, 1, 0, 0, 1, 1, 1, 1, 1, 1, 1, 1, 1, 0, 1, 1, 1, 0, 1, 1,\n",
       "       1, 1, 1, 1, 1, 0, 1, 0, 1, 1, 1, 0, 0, 1, 0, 0, 1, 1, 0, 1, 1, 1,\n",
       "       0, 1, 0, 1, 0, 0, 1, 1, 0, 0, 1, 0, 1, 1, 1, 1, 1, 1, 0, 0, 1, 1,\n",
       "       1, 1, 1, 0, 1, 1, 1, 1, 0, 1, 1, 1, 1])"
      ]
     },
     "execution_count": 17,
     "metadata": {},
     "output_type": "execute_result"
    }
   ],
   "source": [
    "# Prediction are 1 (Flooded) and 0 (Not flooded)\n",
    "prediction "
   ]
  },
  {
   "cell_type": "code",
   "execution_count": 18,
   "metadata": {
    "colab": {
     "base_uri": "https://localhost:8080/",
     "height": 334
    },
    "id": "Wm6R1tRWIJ94",
    "outputId": "5382108c-cea1-46b8-ac52-1906762b25e6",
    "tags": []
   },
   "outputs": [
    {
     "data": {
      "image/png": "[encoded data removed]",
      "text/plain": [
       "<Figure size 800x800 with 1 Axes>"
      ]
     },
     "metadata": {},
     "output_type": "display_data"
    }
   ],
   "source": [
    "# Draw the Receiver Operating Characteristics and estimate the Area under the curve (AUC)\n",
    "# for more information about the AUC, please see https://towardsdatascience.com/understanding-auc-roc-curve-68b2303cc9c5\n",
    "from sklearn.metrics import roc_curve, auc\n",
    "import matplotlib.pyplot as plt\n",
    "\n",
    "# Assuming you have a trained classifier named 'model'\n",
    "y_scores = model.predict_proba(X_test)[:, 1]\n",
    "fpr, tpr, _ = roc_curve(y_test, y_scores)\n",
    "roc_auc = auc(fpr, tpr)\n",
    "\n",
    "# Plot the ROC curve\n",
    "plt.figure(figsize=(8, 8))\n",
    "plt.plot(fpr, tpr, color='darkorange', lw=2, label=f'AUC = {roc_auc:.2f}')\n",
    "plt.plot([0, 1], [0, 1], color='navy', lw=2, linestyle='--')\n",
    "plt.xlabel('False Positive Rate')\n",
    "plt.ylabel('True Positive Rate')\n",
    "plt.title('Receiver Operating Characteristic (ROC) Curve')\n",
    "plt.legend(loc='lower right')\n",
    "plt.show()"
   ]
  },
  {
   "cell_type": "code",
   "execution_count": 19,
   "metadata": {
    "id": "-uIbXNfkIJ96",
    "tags": []
   },
   "outputs": [],
   "source": [
    "# In order to map the flood susceptibility, we need to predict the flood susceptibility (probability between 0 and 1)\n",
    "prediction_prob=model.predict_proba(X_test)"
   ]
  },
  {
   "cell_type": "code",
   "execution_count": 20,
   "metadata": {
    "colab": {
     "base_uri": "https://localhost:8080/"
    },
    "id": "IioOkLppIJ96",
    "outputId": "3fb9bb8c-29da-4ecb-8210-adb0e73e023f",
    "tags": []
   },
   "outputs": [
    {
     "data": {
      "text/plain": [
       "array([[0.13, 0.87],\n",
       "       [0.01, 0.99],\n",
       "       [0.48, 0.52],\n",
       "       [0.3 , 0.7 ],\n",
       "       [0.53, 0.47],\n",
       "       [0.55, 0.45],\n",
       "       [0.13, 0.87],\n",
       "       [0.01, 0.99],\n",
       "       [0.31, 0.69],\n",
       "       [0.01, 0.99],\n",
       "       [0.06, 0.94],\n",
       "       [0.42, 0.58],\n",
       "       [0.01, 0.99],\n",
       "       [0.13, 0.87],\n",
       "       [0.03, 0.97],\n",
       "       [0.87, 0.13],\n",
       "       [0.02, 0.98],\n",
       "       [0.06, 0.94],\n",
       "       [0.07, 0.93],\n",
       "       [0.75, 0.25],\n",
       "       [0.06, 0.94],\n",
       "       [0.3 , 0.7 ],\n",
       "       [0.43, 0.57],\n",
       "       [0.01, 0.99],\n",
       "       [0.02, 0.98],\n",
       "       [0.1 , 0.9 ],\n",
       "       [0.08, 0.92],\n",
       "       [0.53, 0.47],\n",
       "       [0.49, 0.51],\n",
       "       [0.79, 0.21],\n",
       "       [0.01, 0.99],\n",
       "       [0.09, 0.91],\n",
       "       [0.25, 0.75],\n",
       "       [0.63, 0.37],\n",
       "       [0.61, 0.39],\n",
       "       [0.13, 0.87],\n",
       "       [0.92, 0.08],\n",
       "       [0.57, 0.43],\n",
       "       [0.05, 0.95],\n",
       "       [0.21, 0.79],\n",
       "       [0.68, 0.32],\n",
       "       [0.02, 0.98],\n",
       "       [0.1 , 0.9 ],\n",
       "       [0.02, 0.98],\n",
       "       [0.64, 0.36],\n",
       "       [0.07, 0.93],\n",
       "       [0.69, 0.31],\n",
       "       [0.12, 0.88],\n",
       "       [0.77, 0.23],\n",
       "       [0.71, 0.29],\n",
       "       [0.16, 0.84],\n",
       "       [0.1 , 0.9 ],\n",
       "       [0.82, 0.18],\n",
       "       [0.83, 0.17],\n",
       "       [0.22, 0.78],\n",
       "       [0.78, 0.22],\n",
       "       [0.08, 0.92],\n",
       "       [0.06, 0.94],\n",
       "       [0.  , 1.  ],\n",
       "       [0.32, 0.68],\n",
       "       [0.03, 0.97],\n",
       "       [0.06, 0.94],\n",
       "       [0.52, 0.48],\n",
       "       [0.52, 0.48],\n",
       "       [0.13, 0.87],\n",
       "       [0.26, 0.74],\n",
       "       [0.13, 0.87],\n",
       "       [0.03, 0.97],\n",
       "       [0.09, 0.91],\n",
       "       [0.86, 0.14],\n",
       "       [0.01, 0.99],\n",
       "       [0.28, 0.72],\n",
       "       [0.41, 0.59],\n",
       "       [0.18, 0.82],\n",
       "       [0.97, 0.03],\n",
       "       [0.36, 0.64],\n",
       "       [0.46, 0.54],\n",
       "       [0.16, 0.84],\n",
       "       [0.  , 1.  ]])"
      ]
     },
     "execution_count": 20,
     "metadata": {},
     "output_type": "execute_result"
    }
   ],
   "source": [
    "# The probability of being not flooded and flooded for every location ( Their summation equals 1)\n",
    "prediction_prob"
   ]
  },
  {
   "cell_type": "code",
   "execution_count": 21,
   "metadata": {
    "colab": {
     "base_uri": "https://localhost:8080/"
    },
    "id": "ZPQCt4daIJ96",
    "outputId": "9a0e290b-cc21-4748-f019-fa1b7af3f7b7",
    "tags": []
   },
   "outputs": [
    {
     "data": {
      "text/plain": [
       "(79,)"
      ]
     },
     "execution_count": 21,
     "metadata": {},
     "output_type": "execute_result"
    }
   ],
   "source": [
    "ls=prediction_prob[:,1]\n",
    "ls.shape"
   ]
  },
  {
   "cell_type": "code",
   "execution_count": 22,
   "metadata": {
    "colab": {
     "base_uri": "https://localhost:8080/"
    },
    "id": "ZsjM_rS7PDyO",
    "outputId": "ad5b3cb3-7fa1-4b08-d5ea-ce1298c8d307",
    "tags": []
   },
   "outputs": [
    {
     "name": "stdout",
     "output_type": "stream",
     "text": [
      "              precision    recall  f1-score   support\n",
      "\n",
      " Not Flooded       0.91      0.74      0.82        27\n",
      "     Flooded       0.88      0.96      0.92        52\n",
      "\n",
      "    accuracy                           0.89        79\n",
      "   macro avg       0.89      0.85      0.87        79\n",
      "weighted avg       0.89      0.89      0.88        79\n",
      "\n"
     ]
    }
   ],
   "source": [
    "# As flood susceptibility is classification problem (flooded or not flooded), we can calculate some additional performance indices\n",
    "from sklearn.metrics import classification_report\n",
    "target_names=[\"Not Flooded\",\"Flooded\"]\n",
    "print(classification_report(y_test, prediction, target_names=target_names))"
   ]
  },
  {
   "cell_type": "code",
   "execution_count": 23,
   "metadata": {
    "colab": {
     "base_uri": "https://localhost:8080/"
    },
    "id": "fnz6y41vPgKD",
    "outputId": "f093cfb6-8ce9-4be5-92f0-3d40f39fd075",
    "tags": []
   },
   "outputs": [
    {
     "name": "stdout",
     "output_type": "stream",
     "text": [
      "0.7349981364144614\n"
     ]
    }
   ],
   "source": [
    "from sklearn.metrics import cohen_kappa_score\n",
    "print(cohen_kappa_score(y_test, prediction))\n"
   ]
  },
  {
   "cell_type": "code",
   "execution_count": 24,
   "metadata": {
    "colab": {
     "base_uri": "https://localhost:8080/"
    },
    "id": "La5vuKXJIJ98",
    "outputId": "f2cdcf67-b297-4d02-e719-48a9d1e9c2f2",
    "tags": []
   },
   "outputs": [
    {
     "name": "stdout",
     "output_type": "stream",
     "text": [
      "[[20  7]\n",
      " [ 2 50]]\n"
     ]
    }
   ],
   "source": [
    "#Confusion Matrix\n",
    "from sklearn.metrics import confusion_matrix\n",
    "cm = confusion_matrix(y_test, prediction)\n",
    "print(cm)"
   ]
  },
  {
   "cell_type": "code",
   "execution_count": 25,
   "metadata": {
    "colab": {
     "base_uri": "https://localhost:8080/"
    },
    "id": "_eCDsQ1hIJ98",
    "outputId": "9744e5b9-9f43-4225-9220-f474578897f8",
    "tags": []
   },
   "outputs": [
    {
     "name": "stdout",
     "output_type": "stream",
     "text": [
      "DEM          0.251496\n",
      "TWI          0.159591\n",
      "Slope        0.121618\n",
      "Rainfall     0.120067\n",
      "Aspect       0.107864\n",
      "LULC         0.079109\n",
      "CN           0.064601\n",
      "Curvature    0.047902\n",
      "Soil_Text    0.047752\n",
      "dtype: float64\n"
     ]
    }
   ],
   "source": [
    "#importances = list(model_RF.feature_importances_)\n",
    "feature_imp = pd.Series(model.feature_importances_, index=features_list).sort_values(ascending=False)\n",
    "print(feature_imp)"
   ]
  },
  {
   "cell_type": "code",
   "execution_count": 26,
   "metadata": {
    "colab": {
     "base_uri": "https://localhost:8080/",
     "height": 282
    },
    "id": "HVsOXSYOIJ99",
    "outputId": "b57ed0d6-6ecd-471e-e2b2-65a2416894f5",
    "tags": []
   },
   "outputs": [
    {
     "data": {
      "text/plain": [
       "<Axes: >"
      ]
     },
     "execution_count": 26,
     "metadata": {},
     "output_type": "execute_result"
    },
    {
     "data": {
      "image/png": "[encoded data removed]",
      "text/plain": [
       "<Figure size 640x480 with 1 Axes>"
      ]
     },
     "metadata": {},
     "output_type": "display_data"
    }
   ],
   "source": [
    "feature_imp.plot.barh()"
   ]
  },
  {
   "cell_type": "markdown",
   "metadata": {
    "id": "tvmJIA9iIJ9_"
   },
   "source": [
    "# Amibara"
   ]
  },
  {
   "cell_type": "code",
   "execution_count": 27,
   "metadata": {
    "colab": {
     "base_uri": "https://localhost:8080/"
    },
    "id": "Ao7QCF_HQKu5",
    "outputId": "dfcba265-37f7-47ec-c2ee-a180d4b68d3d",
    "tags": []
   },
   "outputs": [
    {
     "name": "stdout",
     "output_type": "stream",
     "text": [
      "Defaulting to user installation because normal site-packages is not writeable\n",
      "Requirement already satisfied: pickle5 in /home/eoafrica/.local/lib/python3.8/site-packages (0.0.11)\n"
     ]
    }
   ],
   "source": [
    "!pip3 install pickle5\n",
    "import pickle5 as pickle\n"
   ]
  },
  {
   "cell_type": "code",
   "execution_count": 28,
   "metadata": {
    "id": "1RSmqfebQwC_",
    "tags": []
   },
   "outputs": [],
   "source": [
    "with open('points_data.pkl', \"rb\") as fh:\n",
    "  df = pickle.load(fh)\n"
   ]
  },
  {
   "cell_type": "code",
   "execution_count": 29,
   "metadata": {
    "colab": {
     "base_uri": "https://localhost:8080/",
     "height": 206
    },
    "id": "V-gmkJ-YQ3GQ",
    "outputId": "7c6a26d8-5c4d-4836-9dfe-a10b07b3ae6c",
    "tags": []
   },
   "outputs": [
    {
     "data": {
      "text/html": [
       "<div>\n",
       "<style scoped>\n",
       "    .dataframe tbody tr th:only-of-type {\n",
       "        vertical-align: middle;\n",
       "    }\n",
       "\n",
       "    .dataframe tbody tr th {\n",
       "        vertical-align: top;\n",
       "    }\n",
       "\n",
       "    .dataframe thead th {\n",
       "        text-align: right;\n",
       "    }\n",
       "</style>\n",
       "<table border=\"1\" class=\"dataframe\">\n",
       "  <thead>\n",
       "    <tr style=\"text-align: right;\">\n",
       "      <th></th>\n",
       "      <th>id</th>\n",
       "      <th>label</th>\n",
       "      <th>geometry</th>\n",
       "      <th>DEM</th>\n",
       "      <th>Slope</th>\n",
       "      <th>Aspect</th>\n",
       "      <th>Curvature</th>\n",
       "      <th>Soil_Test</th>\n",
       "      <th>CN</th>\n",
       "      <th>TWI</th>\n",
       "      <th>Rainfall</th>\n",
       "      <th>LULC</th>\n",
       "      <th>Soil_Text</th>\n",
       "    </tr>\n",
       "  </thead>\n",
       "  <tbody>\n",
       "    <tr>\n",
       "      <th>0</th>\n",
       "      <td>0</td>\n",
       "      <td>0</td>\n",
       "      <td>POINT (648355.689 1032128.503)</td>\n",
       "      <td>810</td>\n",
       "      <td>4.124518</td>\n",
       "      <td>56.309933</td>\n",
       "      <td>1.28</td>\n",
       "      <td>0</td>\n",
       "      <td>71</td>\n",
       "      <td>7.651444</td>\n",
       "      <td>8.634620</td>\n",
       "      <td>30</td>\n",
       "      <td>7</td>\n",
       "    </tr>\n",
       "    <tr>\n",
       "      <th>1</th>\n",
       "      <td>1</td>\n",
       "      <td>0</td>\n",
       "      <td>POINT (652338.758 1039898.468)</td>\n",
       "      <td>798</td>\n",
       "      <td>1.811248</td>\n",
       "      <td>288.434937</td>\n",
       "      <td>-0.64</td>\n",
       "      <td>0</td>\n",
       "      <td>71</td>\n",
       "      <td>6.457982</td>\n",
       "      <td>9.113000</td>\n",
       "      <td>30</td>\n",
       "      <td>7</td>\n",
       "    </tr>\n",
       "    <tr>\n",
       "      <th>2</th>\n",
       "      <td>2</td>\n",
       "      <td>0</td>\n",
       "      <td>POINT (654594.349 1045368.461)</td>\n",
       "      <td>783</td>\n",
       "      <td>2.429397</td>\n",
       "      <td>45.000000</td>\n",
       "      <td>-1.28</td>\n",
       "      <td>0</td>\n",
       "      <td>71</td>\n",
       "      <td>8.626627</td>\n",
       "      <td>14.380471</td>\n",
       "      <td>30</td>\n",
       "      <td>7</td>\n",
       "    </tr>\n",
       "    <tr>\n",
       "      <th>3</th>\n",
       "      <td>3</td>\n",
       "      <td>0</td>\n",
       "      <td>POINT (653891.492 1031276.320)</td>\n",
       "      <td>845</td>\n",
       "      <td>0.810231</td>\n",
       "      <td>225.000000</td>\n",
       "      <td>-0.00</td>\n",
       "      <td>0</td>\n",
       "      <td>71</td>\n",
       "      <td>11.018336</td>\n",
       "      <td>9.009209</td>\n",
       "      <td>30</td>\n",
       "      <td>7</td>\n",
       "    </tr>\n",
       "    <tr>\n",
       "      <th>4</th>\n",
       "      <td>4</td>\n",
       "      <td>0</td>\n",
       "      <td>POINT (657859.303 1042542.024)</td>\n",
       "      <td>803</td>\n",
       "      <td>1.811248</td>\n",
       "      <td>108.434952</td>\n",
       "      <td>-0.64</td>\n",
       "      <td>0</td>\n",
       "      <td>71</td>\n",
       "      <td>7.151129</td>\n",
       "      <td>11.598495</td>\n",
       "      <td>30</td>\n",
       "      <td>7</td>\n",
       "    </tr>\n",
       "  </tbody>\n",
       "</table>\n",
       "</div>"
      ],
      "text/plain": [
       "   id  label                        geometry  DEM     Slope      Aspect  \\\n",
       "0   0      0  POINT (648355.689 1032128.503)  810  4.124518   56.309933   \n",
       "1   1      0  POINT (652338.758 1039898.468)  798  1.811248  288.434937   \n",
       "2   2      0  POINT (654594.349 1045368.461)  783  2.429397   45.000000   \n",
       "3   3      0  POINT (653891.492 1031276.320)  845  0.810231  225.000000   \n",
       "4   4      0  POINT (657859.303 1042542.024)  803  1.811248  108.434952   \n",
       "\n",
       "   Curvature  Soil_Test  CN        TWI   Rainfall  LULC  Soil_Text  \n",
       "0       1.28          0  71   7.651444   8.634620    30          7  \n",
       "1      -0.64          0  71   6.457982   9.113000    30          7  \n",
       "2      -1.28          0  71   8.626627  14.380471    30          7  \n",
       "3      -0.00          0  71  11.018336   9.009209    30          7  \n",
       "4      -0.64          0  71   7.151129  11.598495    30          7  "
      ]
     },
     "execution_count": 29,
     "metadata": {},
     "output_type": "execute_result"
    }
   ],
   "source": [
    "df.head()"
   ]
  },
  {
   "cell_type": "code",
   "execution_count": 30,
   "metadata": {
    "colab": {
     "base_uri": "https://localhost:8080/",
     "height": 206
    },
    "id": "p4r1oaeUIJ-L",
    "outputId": "16ff7bc4-72bf-4a52-becc-c1b81710a735",
    "tags": []
   },
   "outputs": [
    {
     "data": {
      "text/html": [
       "<div>\n",
       "<style scoped>\n",
       "    .dataframe tbody tr th:only-of-type {\n",
       "        vertical-align: middle;\n",
       "    }\n",
       "\n",
       "    .dataframe tbody tr th {\n",
       "        vertical-align: top;\n",
       "    }\n",
       "\n",
       "    .dataframe thead th {\n",
       "        text-align: right;\n",
       "    }\n",
       "</style>\n",
       "<table border=\"1\" class=\"dataframe\">\n",
       "  <thead>\n",
       "    <tr style=\"text-align: right;\">\n",
       "      <th></th>\n",
       "      <th>DEM</th>\n",
       "      <th>Slope</th>\n",
       "      <th>Aspect</th>\n",
       "      <th>Curvature</th>\n",
       "      <th>CN</th>\n",
       "      <th>TWI</th>\n",
       "      <th>Rainfall</th>\n",
       "      <th>LULC</th>\n",
       "      <th>Soil_Text</th>\n",
       "    </tr>\n",
       "  </thead>\n",
       "  <tbody>\n",
       "    <tr>\n",
       "      <th>0</th>\n",
       "      <td>810</td>\n",
       "      <td>4.124518</td>\n",
       "      <td>56.309933</td>\n",
       "      <td>1.28</td>\n",
       "      <td>71</td>\n",
       "      <td>7.651444</td>\n",
       "      <td>8.634620</td>\n",
       "      <td>30</td>\n",
       "      <td>7</td>\n",
       "    </tr>\n",
       "    <tr>\n",
       "      <th>1</th>\n",
       "      <td>798</td>\n",
       "      <td>1.811248</td>\n",
       "      <td>288.434937</td>\n",
       "      <td>-0.64</td>\n",
       "      <td>71</td>\n",
       "      <td>6.457982</td>\n",
       "      <td>9.113000</td>\n",
       "      <td>30</td>\n",
       "      <td>7</td>\n",
       "    </tr>\n",
       "    <tr>\n",
       "      <th>2</th>\n",
       "      <td>783</td>\n",
       "      <td>2.429397</td>\n",
       "      <td>45.000000</td>\n",
       "      <td>-1.28</td>\n",
       "      <td>71</td>\n",
       "      <td>8.626627</td>\n",
       "      <td>14.380471</td>\n",
       "      <td>30</td>\n",
       "      <td>7</td>\n",
       "    </tr>\n",
       "    <tr>\n",
       "      <th>3</th>\n",
       "      <td>845</td>\n",
       "      <td>0.810231</td>\n",
       "      <td>225.000000</td>\n",
       "      <td>-0.00</td>\n",
       "      <td>71</td>\n",
       "      <td>11.018336</td>\n",
       "      <td>9.009209</td>\n",
       "      <td>30</td>\n",
       "      <td>7</td>\n",
       "    </tr>\n",
       "    <tr>\n",
       "      <th>4</th>\n",
       "      <td>803</td>\n",
       "      <td>1.811248</td>\n",
       "      <td>108.434952</td>\n",
       "      <td>-0.64</td>\n",
       "      <td>71</td>\n",
       "      <td>7.151129</td>\n",
       "      <td>11.598495</td>\n",
       "      <td>30</td>\n",
       "      <td>7</td>\n",
       "    </tr>\n",
       "  </tbody>\n",
       "</table>\n",
       "</div>"
      ],
      "text/plain": [
       "   DEM     Slope      Aspect  Curvature  CN        TWI   Rainfall  LULC  \\\n",
       "0  810  4.124518   56.309933       1.28  71   7.651444   8.634620    30   \n",
       "1  798  1.811248  288.434937      -0.64  71   6.457982   9.113000    30   \n",
       "2  783  2.429397   45.000000      -1.28  71   8.626627  14.380471    30   \n",
       "3  845  0.810231  225.000000      -0.00  71  11.018336   9.009209    30   \n",
       "4  803  1.811248  108.434952      -0.64  71   7.151129  11.598495    30   \n",
       "\n",
       "   Soil_Text  \n",
       "0          7  \n",
       "1          7  \n",
       "2          7  \n",
       "3          7  \n",
       "4          7  "
      ]
     },
     "execution_count": 30,
     "metadata": {},
     "output_type": "execute_result"
    }
   ],
   "source": [
    "X_hotspot0= df.drop(labels = [\"geometry\",'id','label','Soil_Test'], axis=1) \n",
    "X_hotspot0.head()"
   ]
  },
  {
   "cell_type": "code",
   "execution_count": 31,
   "metadata": {
    "colab": {
     "base_uri": "https://localhost:8080/"
    },
    "id": "kvNR89vrIJ-L",
    "outputId": "81b06d2c-073e-4475-8d59-7f42e241f7b0",
    "tags": []
   },
   "outputs": [
    {
     "data": {
      "text/plain": [
       "Index(['DEM', 'Slope', 'Aspect', 'Curvature', 'CN', 'TWI', 'Rainfall', 'LULC',\n",
       "       'Soil_Text'],\n",
       "      dtype='object')"
      ]
     },
     "execution_count": 31,
     "metadata": {},
     "output_type": "execute_result"
    }
   ],
   "source": [
    "cols=X.columns\n",
    "cols"
   ]
  },
  {
   "cell_type": "code",
   "execution_count": 32,
   "metadata": {
    "colab": {
     "base_uri": "https://localhost:8080/",
     "height": 206
    },
    "id": "85akwKz3IJ-M",
    "outputId": "5b21157e-31bc-40ad-81a1-834e03c5b7c7",
    "tags": []
   },
   "outputs": [
    {
     "data": {
      "text/html": [
       "<div>\n",
       "<style scoped>\n",
       "    .dataframe tbody tr th:only-of-type {\n",
       "        vertical-align: middle;\n",
       "    }\n",
       "\n",
       "    .dataframe tbody tr th {\n",
       "        vertical-align: top;\n",
       "    }\n",
       "\n",
       "    .dataframe thead th {\n",
       "        text-align: right;\n",
       "    }\n",
       "</style>\n",
       "<table border=\"1\" class=\"dataframe\">\n",
       "  <thead>\n",
       "    <tr style=\"text-align: right;\">\n",
       "      <th></th>\n",
       "      <th>DEM</th>\n",
       "      <th>Slope</th>\n",
       "      <th>Aspect</th>\n",
       "      <th>Curvature</th>\n",
       "      <th>CN</th>\n",
       "      <th>TWI</th>\n",
       "      <th>Rainfall</th>\n",
       "      <th>LULC</th>\n",
       "      <th>Soil_Text</th>\n",
       "    </tr>\n",
       "  </thead>\n",
       "  <tbody>\n",
       "    <tr>\n",
       "      <th>0</th>\n",
       "      <td>810</td>\n",
       "      <td>4.124518</td>\n",
       "      <td>56.309933</td>\n",
       "      <td>1.28</td>\n",
       "      <td>71</td>\n",
       "      <td>7.651444</td>\n",
       "      <td>8.634620</td>\n",
       "      <td>30</td>\n",
       "      <td>7</td>\n",
       "    </tr>\n",
       "    <tr>\n",
       "      <th>1</th>\n",
       "      <td>798</td>\n",
       "      <td>1.811248</td>\n",
       "      <td>288.434937</td>\n",
       "      <td>-0.64</td>\n",
       "      <td>71</td>\n",
       "      <td>6.457982</td>\n",
       "      <td>9.113000</td>\n",
       "      <td>30</td>\n",
       "      <td>7</td>\n",
       "    </tr>\n",
       "    <tr>\n",
       "      <th>2</th>\n",
       "      <td>783</td>\n",
       "      <td>2.429397</td>\n",
       "      <td>45.000000</td>\n",
       "      <td>-1.28</td>\n",
       "      <td>71</td>\n",
       "      <td>8.626627</td>\n",
       "      <td>14.380471</td>\n",
       "      <td>30</td>\n",
       "      <td>7</td>\n",
       "    </tr>\n",
       "    <tr>\n",
       "      <th>3</th>\n",
       "      <td>845</td>\n",
       "      <td>0.810231</td>\n",
       "      <td>225.000000</td>\n",
       "      <td>-0.00</td>\n",
       "      <td>71</td>\n",
       "      <td>11.018336</td>\n",
       "      <td>9.009209</td>\n",
       "      <td>30</td>\n",
       "      <td>7</td>\n",
       "    </tr>\n",
       "    <tr>\n",
       "      <th>4</th>\n",
       "      <td>803</td>\n",
       "      <td>1.811248</td>\n",
       "      <td>108.434952</td>\n",
       "      <td>-0.64</td>\n",
       "      <td>71</td>\n",
       "      <td>7.151129</td>\n",
       "      <td>11.598495</td>\n",
       "      <td>30</td>\n",
       "      <td>7</td>\n",
       "    </tr>\n",
       "  </tbody>\n",
       "</table>\n",
       "</div>"
      ],
      "text/plain": [
       "   DEM     Slope      Aspect  Curvature  CN        TWI   Rainfall  LULC  \\\n",
       "0  810  4.124518   56.309933       1.28  71   7.651444   8.634620    30   \n",
       "1  798  1.811248  288.434937      -0.64  71   6.457982   9.113000    30   \n",
       "2  783  2.429397   45.000000      -1.28  71   8.626627  14.380471    30   \n",
       "3  845  0.810231  225.000000      -0.00  71  11.018336   9.009209    30   \n",
       "4  803  1.811248  108.434952      -0.64  71   7.151129  11.598495    30   \n",
       "\n",
       "   Soil_Text  \n",
       "0          7  \n",
       "1          7  \n",
       "2          7  \n",
       "3          7  \n",
       "4          7  "
      ]
     },
     "execution_count": 32,
     "metadata": {},
     "output_type": "execute_result"
    }
   ],
   "source": [
    "X_hotspot0=X_hotspot0[cols]\n",
    "X_hotspot0.head()"
   ]
  },
  {
   "cell_type": "code",
   "execution_count": 33,
   "metadata": {
    "colab": {
     "base_uri": "https://localhost:8080/"
    },
    "id": "ky3INRrQIJ-M",
    "outputId": "c2ac2e32-a378-4575-c7e6-7923561d5b54",
    "tags": []
   },
   "outputs": [
    {
     "name": "stdout",
     "output_type": "stream",
     "text": [
      "DEM          0\n",
      "Slope        0\n",
      "Aspect       0\n",
      "Curvature    0\n",
      "CN           0\n",
      "TWI          0\n",
      "Rainfall     0\n",
      "LULC         0\n",
      "Soil_Text    0\n",
      "dtype: int64\n"
     ]
    }
   ],
   "source": [
    "print(X_hotspot0.isnull().sum())\n"
   ]
  },
  {
   "cell_type": "code",
   "execution_count": 34,
   "metadata": {
    "id": "TXh1skroIJ-N",
    "tags": []
   },
   "outputs": [],
   "source": [
    "X_hotspot0 = X_hotspot0.dropna()"
   ]
  },
  {
   "cell_type": "code",
   "execution_count": 35,
   "metadata": {
    "id": "fG2QtGAHIJ-N",
    "tags": []
   },
   "outputs": [],
   "source": [
    "df=df.dropna()"
   ]
  },
  {
   "cell_type": "code",
   "execution_count": 36,
   "metadata": {
    "id": "7zUFt6VaIJ-N",
    "tags": []
   },
   "outputs": [],
   "source": [
    "prediction_prob=model.predict_proba(X_hotspot0)"
   ]
  },
  {
   "cell_type": "code",
   "execution_count": 37,
   "metadata": {
    "colab": {
     "base_uri": "https://localhost:8080/"
    },
    "id": "ycqAWDb0IJ-N",
    "outputId": "0321e6eb-fbb1-43c1-8ee7-0a58388b338f",
    "tags": []
   },
   "outputs": [
    {
     "data": {
      "text/plain": [
       "array([[0.87, 0.13],\n",
       "       [0.96, 0.04],\n",
       "       [0.96, 0.04],\n",
       "       [0.93, 0.07],\n",
       "       [0.94, 0.06],\n",
       "       [0.92, 0.08],\n",
       "       [0.93, 0.07],\n",
       "       [0.86, 0.14],\n",
       "       [0.98, 0.02],\n",
       "       [0.86, 0.14],\n",
       "       [0.95, 0.05],\n",
       "       [0.63, 0.37],\n",
       "       [0.5 , 0.5 ],\n",
       "       [0.94, 0.06],\n",
       "       [0.71, 0.29],\n",
       "       [0.81, 0.19],\n",
       "       [0.03, 0.97],\n",
       "       [0.76, 0.24],\n",
       "       [0.91, 0.09],\n",
       "       [0.98, 0.02],\n",
       "       [0.96, 0.04],\n",
       "       [0.75, 0.25],\n",
       "       [0.81, 0.19],\n",
       "       [0.79, 0.21],\n",
       "       [0.69, 0.31],\n",
       "       [0.91, 0.09],\n",
       "       [0.99, 0.01],\n",
       "       [0.71, 0.29],\n",
       "       [0.96, 0.04],\n",
       "       [0.81, 0.19],\n",
       "       [0.84, 0.16],\n",
       "       [0.68, 0.32],\n",
       "       [0.77, 0.23],\n",
       "       [0.42, 0.58],\n",
       "       [0.22, 0.78],\n",
       "       [0.05, 0.95],\n",
       "       [0.94, 0.06],\n",
       "       [0.63, 0.37],\n",
       "       [0.68, 0.32],\n",
       "       [0.31, 0.69],\n",
       "       [0.91, 0.09],\n",
       "       [0.82, 0.18],\n",
       "       [0.74, 0.26],\n",
       "       [0.81, 0.19],\n",
       "       [0.92, 0.08],\n",
       "       [0.84, 0.16],\n",
       "       [0.89, 0.11],\n",
       "       [0.52, 0.48],\n",
       "       [0.21, 0.79],\n",
       "       [0.67, 0.33],\n",
       "       [0.72, 0.28],\n",
       "       [0.74, 0.26],\n",
       "       [0.46, 0.54],\n",
       "       [0.79, 0.21],\n",
       "       [0.4 , 0.6 ],\n",
       "       [0.77, 0.23],\n",
       "       [0.78, 0.22],\n",
       "       [0.82, 0.18],\n",
       "       [0.64, 0.36],\n",
       "       [0.69, 0.31],\n",
       "       [0.84, 0.16],\n",
       "       [0.81, 0.19],\n",
       "       [0.93, 0.07],\n",
       "       [0.78, 0.22],\n",
       "       [0.6 , 0.4 ],\n",
       "       [0.49, 0.51],\n",
       "       [0.87, 0.13],\n",
       "       [0.82, 0.18],\n",
       "       [0.85, 0.15],\n",
       "       [0.86, 0.14],\n",
       "       [0.89, 0.11],\n",
       "       [1.  , 0.  ],\n",
       "       [0.48, 0.52],\n",
       "       [0.82, 0.18],\n",
       "       [0.88, 0.12],\n",
       "       [0.86, 0.14],\n",
       "       [0.97, 0.03],\n",
       "       [0.73, 0.27],\n",
       "       [0.83, 0.17],\n",
       "       [0.81, 0.19],\n",
       "       [0.78, 0.22],\n",
       "       [0.83, 0.17],\n",
       "       [0.64, 0.36],\n",
       "       [0.96, 0.04],\n",
       "       [0.89, 0.11],\n",
       "       [0.98, 0.02],\n",
       "       [0.86, 0.14],\n",
       "       [0.57, 0.43],\n",
       "       [0.77, 0.23],\n",
       "       [0.88, 0.12],\n",
       "       [0.83, 0.17],\n",
       "       [0.94, 0.06],\n",
       "       [0.83, 0.17],\n",
       "       [0.79, 0.21],\n",
       "       [0.87, 0.13],\n",
       "       [0.95, 0.05],\n",
       "       [0.66, 0.34],\n",
       "       [0.53, 0.47],\n",
       "       [0.61, 0.39],\n",
       "       [0.8 , 0.2 ],\n",
       "       [0.53, 0.47],\n",
       "       [0.55, 0.45],\n",
       "       [0.93, 0.07],\n",
       "       [0.97, 0.03],\n",
       "       [1.  , 0.  ],\n",
       "       [0.76, 0.24],\n",
       "       [0.7 , 0.3 ],\n",
       "       [0.87, 0.13],\n",
       "       [0.87, 0.13],\n",
       "       [0.96, 0.04],\n",
       "       [0.9 , 0.1 ],\n",
       "       [0.74, 0.26],\n",
       "       [0.74, 0.26],\n",
       "       [0.6 , 0.4 ],\n",
       "       [0.72, 0.28],\n",
       "       [0.85, 0.15],\n",
       "       [0.81, 0.19],\n",
       "       [0.31, 0.69],\n",
       "       [0.22, 0.78],\n",
       "       [0.61, 0.39],\n",
       "       [0.32, 0.68],\n",
       "       [0.12, 0.88],\n",
       "       [0.41, 0.59],\n",
       "       [0.01, 0.99],\n",
       "       [0.06, 0.94],\n",
       "       [0.28, 0.72],\n",
       "       [0.46, 0.54],\n",
       "       [0.1 , 0.9 ],\n",
       "       [0.27, 0.73],\n",
       "       [0.24, 0.76],\n",
       "       [0.18, 0.82],\n",
       "       [0.16, 0.84],\n",
       "       [0.14, 0.86],\n",
       "       [0.11, 0.89],\n",
       "       [0.2 , 0.8 ],\n",
       "       [0.03, 0.97],\n",
       "       [0.11, 0.89],\n",
       "       [0.26, 0.74],\n",
       "       [0.52, 0.48],\n",
       "       [0.43, 0.57],\n",
       "       [0.06, 0.94],\n",
       "       [0.15, 0.85],\n",
       "       [0.21, 0.79],\n",
       "       [0.38, 0.62],\n",
       "       [0.26, 0.74],\n",
       "       [0.09, 0.91],\n",
       "       [0.03, 0.97],\n",
       "       [0.27, 0.73],\n",
       "       [0.18, 0.82],\n",
       "       [0.48, 0.52],\n",
       "       [0.32, 0.68],\n",
       "       [0.23, 0.77],\n",
       "       [0.36, 0.64],\n",
       "       [0.15, 0.85],\n",
       "       [0.28, 0.72],\n",
       "       [0.2 , 0.8 ],\n",
       "       [0.23, 0.77],\n",
       "       [0.22, 0.78],\n",
       "       [0.31, 0.69],\n",
       "       [0.12, 0.88],\n",
       "       [0.53, 0.47],\n",
       "       [0.2 , 0.8 ],\n",
       "       [0.36, 0.64],\n",
       "       [0.11, 0.89],\n",
       "       [0.06, 0.94],\n",
       "       [0.07, 0.93],\n",
       "       [0.25, 0.75],\n",
       "       [0.46, 0.54],\n",
       "       [0.16, 0.84],\n",
       "       [0.23, 0.77],\n",
       "       [0.35, 0.65],\n",
       "       [0.1 , 0.9 ],\n",
       "       [0.31, 0.69],\n",
       "       [0.14, 0.86],\n",
       "       [0.06, 0.94],\n",
       "       [0.19, 0.81],\n",
       "       [0.09, 0.91],\n",
       "       [0.21, 0.79],\n",
       "       [0.14, 0.86],\n",
       "       [0.39, 0.61],\n",
       "       [0.8 , 0.2 ],\n",
       "       [0.32, 0.68],\n",
       "       [0.04, 0.96],\n",
       "       [0.  , 1.  ],\n",
       "       [0.1 , 0.9 ],\n",
       "       [0.05, 0.95],\n",
       "       [0.02, 0.98],\n",
       "       [0.01, 0.99],\n",
       "       [0.14, 0.86],\n",
       "       [0.53, 0.47],\n",
       "       [0.01, 0.99],\n",
       "       [0.09, 0.91],\n",
       "       [0.06, 0.94],\n",
       "       [0.01, 0.99],\n",
       "       [0.06, 0.94],\n",
       "       [0.11, 0.89],\n",
       "       [0.14, 0.86],\n",
       "       [0.29, 0.71],\n",
       "       [0.05, 0.95],\n",
       "       [0.11, 0.89],\n",
       "       [0.04, 0.96],\n",
       "       [0.1 , 0.9 ],\n",
       "       [0.03, 0.97],\n",
       "       [0.13, 0.87],\n",
       "       [0.13, 0.87],\n",
       "       [0.01, 0.99],\n",
       "       [0.3 , 0.7 ],\n",
       "       [0.13, 0.87],\n",
       "       [0.06, 0.94],\n",
       "       [0.22, 0.78],\n",
       "       [0.08, 0.92],\n",
       "       [0.1 , 0.9 ],\n",
       "       [0.03, 0.97],\n",
       "       [0.08, 0.92],\n",
       "       [0.02, 0.98],\n",
       "       [0.08, 0.92],\n",
       "       [0.04, 0.96],\n",
       "       [0.02, 0.98],\n",
       "       [0.04, 0.96],\n",
       "       [0.01, 0.99],\n",
       "       [0.05, 0.95],\n",
       "       [0.01, 0.99],\n",
       "       [0.01, 0.99],\n",
       "       [0.04, 0.96],\n",
       "       [0.01, 0.99],\n",
       "       [0.03, 0.97],\n",
       "       [0.04, 0.96],\n",
       "       [0.  , 1.  ],\n",
       "       [0.07, 0.93],\n",
       "       [0.02, 0.98],\n",
       "       [0.01, 0.99],\n",
       "       [0.1 , 0.9 ],\n",
       "       [0.  , 1.  ],\n",
       "       [0.02, 0.98],\n",
       "       [0.3 , 0.7 ],\n",
       "       [0.01, 0.99],\n",
       "       [0.05, 0.95],\n",
       "       [0.02, 0.98],\n",
       "       [0.  , 1.  ],\n",
       "       [0.02, 0.98],\n",
       "       [0.02, 0.98],\n",
       "       [0.04, 0.96],\n",
       "       [0.01, 0.99],\n",
       "       [0.01, 0.99],\n",
       "       [0.03, 0.97],\n",
       "       [0.  , 1.  ],\n",
       "       [0.  , 1.  ],\n",
       "       [0.  , 1.  ],\n",
       "       [0.01, 0.99],\n",
       "       [0.02, 0.98],\n",
       "       [0.03, 0.97],\n",
       "       [0.01, 0.99],\n",
       "       [0.02, 0.98],\n",
       "       [0.  , 1.  ],\n",
       "       [0.  , 1.  ],\n",
       "       [0.04, 0.96],\n",
       "       [0.29, 0.71],\n",
       "       [0.1 , 0.9 ],\n",
       "       [0.04, 0.96],\n",
       "       [0.1 , 0.9 ],\n",
       "       [0.1 , 0.9 ],\n",
       "       [0.07, 0.93],\n",
       "       [0.11, 0.89],\n",
       "       [0.23, 0.77],\n",
       "       [0.07, 0.93],\n",
       "       [0.03, 0.97],\n",
       "       [0.03, 0.97],\n",
       "       [0.08, 0.92],\n",
       "       [0.  , 1.  ],\n",
       "       [0.04, 0.96],\n",
       "       [0.14, 0.86],\n",
       "       [0.02, 0.98],\n",
       "       [0.01, 0.99],\n",
       "       [0.14, 0.86],\n",
       "       [0.01, 0.99],\n",
       "       [0.02, 0.98],\n",
       "       [0.18, 0.82],\n",
       "       [0.02, 0.98],\n",
       "       [0.07, 0.93],\n",
       "       [0.16, 0.84],\n",
       "       [0.01, 0.99],\n",
       "       [0.05, 0.95],\n",
       "       [0.07, 0.93],\n",
       "       [0.03, 0.97],\n",
       "       [0.01, 0.99],\n",
       "       [0.  , 1.  ],\n",
       "       [0.18, 0.82],\n",
       "       [0.28, 0.72],\n",
       "       [0.  , 1.  ],\n",
       "       [0.02, 0.98],\n",
       "       [0.01, 0.99],\n",
       "       [0.03, 0.97],\n",
       "       [0.01, 0.99],\n",
       "       [0.01, 0.99],\n",
       "       [0.  , 1.  ],\n",
       "       [0.18, 0.82],\n",
       "       [0.21, 0.79],\n",
       "       [0.44, 0.56],\n",
       "       [0.03, 0.97],\n",
       "       [0.12, 0.88],\n",
       "       [0.  , 1.  ],\n",
       "       [0.15, 0.85],\n",
       "       [0.02, 0.98],\n",
       "       [0.  , 1.  ],\n",
       "       [0.01, 0.99],\n",
       "       [0.13, 0.87],\n",
       "       [0.13, 0.87],\n",
       "       [0.  , 1.  ],\n",
       "       [0.11, 0.89],\n",
       "       [0.04, 0.96],\n",
       "       [0.  , 1.  ],\n",
       "       [0.39, 0.61],\n",
       "       [0.02, 0.98],\n",
       "       [0.02, 0.98],\n",
       "       [0.  , 1.  ],\n",
       "       [0.08, 0.92],\n",
       "       [0.02, 0.98],\n",
       "       [0.01, 0.99],\n",
       "       [0.06, 0.94],\n",
       "       [0.01, 0.99],\n",
       "       [0.02, 0.98],\n",
       "       [0.  , 1.  ],\n",
       "       [0.03, 0.97],\n",
       "       [0.  , 1.  ],\n",
       "       [0.01, 0.99],\n",
       "       [0.09, 0.91],\n",
       "       [0.4 , 0.6 ],\n",
       "       [0.06, 0.94],\n",
       "       [0.06, 0.94],\n",
       "       [0.06, 0.94],\n",
       "       [0.  , 1.  ],\n",
       "       [0.  , 1.  ],\n",
       "       [0.03, 0.97],\n",
       "       [0.01, 0.99],\n",
       "       [0.03, 0.97],\n",
       "       [0.04, 0.96],\n",
       "       [0.01, 0.99],\n",
       "       [0.  , 1.  ],\n",
       "       [0.12, 0.88],\n",
       "       [0.01, 0.99],\n",
       "       [0.05, 0.95],\n",
       "       [0.05, 0.95],\n",
       "       [0.01, 0.99],\n",
       "       [0.02, 0.98],\n",
       "       [0.03, 0.97],\n",
       "       [0.07, 0.93],\n",
       "       [0.06, 0.94],\n",
       "       [0.22, 0.78],\n",
       "       [0.06, 0.94],\n",
       "       [0.12, 0.88],\n",
       "       [0.01, 0.99],\n",
       "       [0.01, 0.99],\n",
       "       [0.01, 0.99],\n",
       "       [0.18, 0.82],\n",
       "       [0.01, 0.99],\n",
       "       [0.15, 0.85],\n",
       "       [0.  , 1.  ],\n",
       "       [0.01, 0.99],\n",
       "       [0.02, 0.98],\n",
       "       [0.07, 0.93],\n",
       "       [0.19, 0.81],\n",
       "       [0.09, 0.91],\n",
       "       [0.08, 0.92],\n",
       "       [0.09, 0.91],\n",
       "       [0.07, 0.93],\n",
       "       [0.  , 1.  ],\n",
       "       [0.08, 0.92],\n",
       "       [0.05, 0.95],\n",
       "       [0.01, 0.99],\n",
       "       [0.  , 1.  ],\n",
       "       [0.03, 0.97],\n",
       "       [0.02, 0.98],\n",
       "       [0.03, 0.97],\n",
       "       [0.05, 0.95],\n",
       "       [0.03, 0.97],\n",
       "       [0.06, 0.94],\n",
       "       [0.01, 0.99],\n",
       "       [0.07, 0.93],\n",
       "       [0.06, 0.94],\n",
       "       [0.01, 0.99],\n",
       "       [0.13, 0.87],\n",
       "       [0.1 , 0.9 ],\n",
       "       [0.1 , 0.9 ],\n",
       "       [0.4 , 0.6 ],\n",
       "       [0.  , 1.  ],\n",
       "       [0.04, 0.96],\n",
       "       [0.07, 0.93],\n",
       "       [0.01, 0.99],\n",
       "       [0.  , 1.  ],\n",
       "       [0.11, 0.89],\n",
       "       [0.01, 0.99],\n",
       "       [0.22, 0.78],\n",
       "       [0.49, 0.51]])"
      ]
     },
     "execution_count": 37,
     "metadata": {},
     "output_type": "execute_result"
    }
   ],
   "source": [
    "prediction_prob"
   ]
  },
  {
   "cell_type": "code",
   "execution_count": 38,
   "metadata": {
    "colab": {
     "base_uri": "https://localhost:8080/"
    },
    "id": "E12pnmUZIJ-O",
    "outputId": "e7bb6068-9869-4ecd-cfeb-1bd5fd30f768",
    "tags": []
   },
   "outputs": [
    {
     "data": {
      "text/plain": [
       "array([0.13, 0.04, 0.04, 0.07, 0.06, 0.08, 0.07, 0.14, 0.02, 0.14, 0.05,\n",
       "       0.37, 0.5 , 0.06, 0.29, 0.19, 0.97, 0.24, 0.09, 0.02, 0.04, 0.25,\n",
       "       0.19, 0.21, 0.31, 0.09, 0.01, 0.29, 0.04, 0.19, 0.16, 0.32, 0.23,\n",
       "       0.58, 0.78, 0.95, 0.06, 0.37, 0.32, 0.69, 0.09, 0.18, 0.26, 0.19,\n",
       "       0.08, 0.16, 0.11, 0.48, 0.79, 0.33, 0.28, 0.26, 0.54, 0.21, 0.6 ,\n",
       "       0.23, 0.22, 0.18, 0.36, 0.31, 0.16, 0.19, 0.07, 0.22, 0.4 , 0.51,\n",
       "       0.13, 0.18, 0.15, 0.14, 0.11, 0.  , 0.52, 0.18, 0.12, 0.14, 0.03,\n",
       "       0.27, 0.17, 0.19, 0.22, 0.17, 0.36, 0.04, 0.11, 0.02, 0.14, 0.43,\n",
       "       0.23, 0.12, 0.17, 0.06, 0.17, 0.21, 0.13, 0.05, 0.34, 0.47, 0.39,\n",
       "       0.2 , 0.47, 0.45, 0.07, 0.03, 0.  , 0.24, 0.3 , 0.13, 0.13, 0.04,\n",
       "       0.1 , 0.26, 0.26, 0.4 , 0.28, 0.15, 0.19, 0.69, 0.78, 0.39, 0.68,\n",
       "       0.88, 0.59, 0.99, 0.94, 0.72, 0.54, 0.9 , 0.73, 0.76, 0.82, 0.84,\n",
       "       0.86, 0.89, 0.8 , 0.97, 0.89, 0.74, 0.48, 0.57, 0.94, 0.85, 0.79,\n",
       "       0.62, 0.74, 0.91, 0.97, 0.73, 0.82, 0.52, 0.68, 0.77, 0.64, 0.85,\n",
       "       0.72, 0.8 , 0.77, 0.78, 0.69, 0.88, 0.47, 0.8 , 0.64, 0.89, 0.94,\n",
       "       0.93, 0.75, 0.54, 0.84, 0.77, 0.65, 0.9 , 0.69, 0.86, 0.94, 0.81,\n",
       "       0.91, 0.79, 0.86, 0.61, 0.2 , 0.68, 0.96, 1.  , 0.9 , 0.95, 0.98,\n",
       "       0.99, 0.86, 0.47, 0.99, 0.91, 0.94, 0.99, 0.94, 0.89, 0.86, 0.71,\n",
       "       0.95, 0.89, 0.96, 0.9 , 0.97, 0.87, 0.87, 0.99, 0.7 , 0.87, 0.94,\n",
       "       0.78, 0.92, 0.9 , 0.97, 0.92, 0.98, 0.92, 0.96, 0.98, 0.96, 0.99,\n",
       "       0.95, 0.99, 0.99, 0.96, 0.99, 0.97, 0.96, 1.  , 0.93, 0.98, 0.99,\n",
       "       0.9 , 1.  , 0.98, 0.7 , 0.99, 0.95, 0.98, 1.  , 0.98, 0.98, 0.96,\n",
       "       0.99, 0.99, 0.97, 1.  , 1.  , 1.  , 0.99, 0.98, 0.97, 0.99, 0.98,\n",
       "       1.  , 1.  , 0.96, 0.71, 0.9 , 0.96, 0.9 , 0.9 , 0.93, 0.89, 0.77,\n",
       "       0.93, 0.97, 0.97, 0.92, 1.  , 0.96, 0.86, 0.98, 0.99, 0.86, 0.99,\n",
       "       0.98, 0.82, 0.98, 0.93, 0.84, 0.99, 0.95, 0.93, 0.97, 0.99, 1.  ,\n",
       "       0.82, 0.72, 1.  , 0.98, 0.99, 0.97, 0.99, 0.99, 1.  , 0.82, 0.79,\n",
       "       0.56, 0.97, 0.88, 1.  , 0.85, 0.98, 1.  , 0.99, 0.87, 0.87, 1.  ,\n",
       "       0.89, 0.96, 1.  , 0.61, 0.98, 0.98, 1.  , 0.92, 0.98, 0.99, 0.94,\n",
       "       0.99, 0.98, 1.  , 0.97, 1.  , 0.99, 0.91, 0.6 , 0.94, 0.94, 0.94,\n",
       "       1.  , 1.  , 0.97, 0.99, 0.97, 0.96, 0.99, 1.  , 0.88, 0.99, 0.95,\n",
       "       0.95, 0.99, 0.98, 0.97, 0.93, 0.94, 0.78, 0.94, 0.88, 0.99, 0.99,\n",
       "       0.99, 0.82, 0.99, 0.85, 1.  , 0.99, 0.98, 0.93, 0.81, 0.91, 0.92,\n",
       "       0.91, 0.93, 1.  , 0.92, 0.95, 0.99, 1.  , 0.97, 0.98, 0.97, 0.95,\n",
       "       0.97, 0.94, 0.99, 0.93, 0.94, 0.99, 0.87, 0.9 , 0.9 , 0.6 , 1.  ,\n",
       "       0.96, 0.93, 0.99, 1.  , 0.89, 0.99, 0.78, 0.51])"
      ]
     },
     "execution_count": 38,
     "metadata": {},
     "output_type": "execute_result"
    }
   ],
   "source": [
    "ls_hotspot0=prediction_prob[:,1]\n",
    "ls_hotspot0"
   ]
  },
  {
   "cell_type": "code",
   "execution_count": 39,
   "metadata": {
    "colab": {
     "base_uri": "https://localhost:8080/",
     "height": 206
    },
    "id": "j6wHQ58mIJ-O",
    "outputId": "25ba5eaf-691f-4f38-e7b5-743836eb00a4",
    "tags": []
   },
   "outputs": [
    {
     "data": {
      "text/html": [
       "<div>\n",
       "<style scoped>\n",
       "    .dataframe tbody tr th:only-of-type {\n",
       "        vertical-align: middle;\n",
       "    }\n",
       "\n",
       "    .dataframe tbody tr th {\n",
       "        vertical-align: top;\n",
       "    }\n",
       "\n",
       "    .dataframe thead th {\n",
       "        text-align: right;\n",
       "    }\n",
       "</style>\n",
       "<table border=\"1\" class=\"dataframe\">\n",
       "  <thead>\n",
       "    <tr style=\"text-align: right;\">\n",
       "      <th></th>\n",
       "      <th>id</th>\n",
       "      <th>label</th>\n",
       "      <th>geometry</th>\n",
       "      <th>DEM</th>\n",
       "      <th>Slope</th>\n",
       "      <th>Aspect</th>\n",
       "      <th>Curvature</th>\n",
       "      <th>Soil_Test</th>\n",
       "      <th>CN</th>\n",
       "      <th>TWI</th>\n",
       "      <th>Rainfall</th>\n",
       "      <th>LULC</th>\n",
       "      <th>Soil_Text</th>\n",
       "      <th>FSM</th>\n",
       "    </tr>\n",
       "  </thead>\n",
       "  <tbody>\n",
       "    <tr>\n",
       "      <th>0</th>\n",
       "      <td>0</td>\n",
       "      <td>0</td>\n",
       "      <td>POINT (648355.689 1032128.503)</td>\n",
       "      <td>810</td>\n",
       "      <td>4.124518</td>\n",
       "      <td>56.309933</td>\n",
       "      <td>1.28</td>\n",
       "      <td>0</td>\n",
       "      <td>71</td>\n",
       "      <td>7.651444</td>\n",
       "      <td>8.634620</td>\n",
       "      <td>30</td>\n",
       "      <td>7</td>\n",
       "      <td>0.13</td>\n",
       "    </tr>\n",
       "    <tr>\n",
       "      <th>1</th>\n",
       "      <td>1</td>\n",
       "      <td>0</td>\n",
       "      <td>POINT (652338.758 1039898.468)</td>\n",
       "      <td>798</td>\n",
       "      <td>1.811248</td>\n",
       "      <td>288.434937</td>\n",
       "      <td>-0.64</td>\n",
       "      <td>0</td>\n",
       "      <td>71</td>\n",
       "      <td>6.457982</td>\n",
       "      <td>9.113000</td>\n",
       "      <td>30</td>\n",
       "      <td>7</td>\n",
       "      <td>0.04</td>\n",
       "    </tr>\n",
       "    <tr>\n",
       "      <th>2</th>\n",
       "      <td>2</td>\n",
       "      <td>0</td>\n",
       "      <td>POINT (654594.349 1045368.461)</td>\n",
       "      <td>783</td>\n",
       "      <td>2.429397</td>\n",
       "      <td>45.000000</td>\n",
       "      <td>-1.28</td>\n",
       "      <td>0</td>\n",
       "      <td>71</td>\n",
       "      <td>8.626627</td>\n",
       "      <td>14.380471</td>\n",
       "      <td>30</td>\n",
       "      <td>7</td>\n",
       "      <td>0.04</td>\n",
       "    </tr>\n",
       "    <tr>\n",
       "      <th>3</th>\n",
       "      <td>3</td>\n",
       "      <td>0</td>\n",
       "      <td>POINT (653891.492 1031276.320)</td>\n",
       "      <td>845</td>\n",
       "      <td>0.810231</td>\n",
       "      <td>225.000000</td>\n",
       "      <td>-0.00</td>\n",
       "      <td>0</td>\n",
       "      <td>71</td>\n",
       "      <td>11.018336</td>\n",
       "      <td>9.009209</td>\n",
       "      <td>30</td>\n",
       "      <td>7</td>\n",
       "      <td>0.07</td>\n",
       "    </tr>\n",
       "    <tr>\n",
       "      <th>4</th>\n",
       "      <td>4</td>\n",
       "      <td>0</td>\n",
       "      <td>POINT (657859.303 1042542.024)</td>\n",
       "      <td>803</td>\n",
       "      <td>1.811248</td>\n",
       "      <td>108.434952</td>\n",
       "      <td>-0.64</td>\n",
       "      <td>0</td>\n",
       "      <td>71</td>\n",
       "      <td>7.151129</td>\n",
       "      <td>11.598495</td>\n",
       "      <td>30</td>\n",
       "      <td>7</td>\n",
       "      <td>0.06</td>\n",
       "    </tr>\n",
       "  </tbody>\n",
       "</table>\n",
       "</div>"
      ],
      "text/plain": [
       "   id  label                        geometry  DEM     Slope      Aspect  \\\n",
       "0   0      0  POINT (648355.689 1032128.503)  810  4.124518   56.309933   \n",
       "1   1      0  POINT (652338.758 1039898.468)  798  1.811248  288.434937   \n",
       "2   2      0  POINT (654594.349 1045368.461)  783  2.429397   45.000000   \n",
       "3   3      0  POINT (653891.492 1031276.320)  845  0.810231  225.000000   \n",
       "4   4      0  POINT (657859.303 1042542.024)  803  1.811248  108.434952   \n",
       "\n",
       "   Curvature  Soil_Test  CN        TWI   Rainfall  LULC  Soil_Text   FSM  \n",
       "0       1.28          0  71   7.651444   8.634620    30          7  0.13  \n",
       "1      -0.64          0  71   6.457982   9.113000    30          7  0.04  \n",
       "2      -1.28          0  71   8.626627  14.380471    30          7  0.04  \n",
       "3      -0.00          0  71  11.018336   9.009209    30          7  0.07  \n",
       "4      -0.64          0  71   7.151129  11.598495    30          7  0.06  "
      ]
     },
     "execution_count": 39,
     "metadata": {},
     "output_type": "execute_result"
    }
   ],
   "source": [
    "df['FSM']=ls_hotspot0\n",
    "df.head()\n"
   ]
  },
  {
   "cell_type": "code",
   "execution_count": 40,
   "metadata": {
    "tags": []
   },
   "outputs": [
    {
     "data": {
      "text/html": [
       "<div>\n",
       "<style scoped>\n",
       "    .dataframe tbody tr th:only-of-type {\n",
       "        vertical-align: middle;\n",
       "    }\n",
       "\n",
       "    .dataframe tbody tr th {\n",
       "        vertical-align: top;\n",
       "    }\n",
       "\n",
       "    .dataframe thead th {\n",
       "        text-align: right;\n",
       "    }\n",
       "</style>\n",
       "<table border=\"1\" class=\"dataframe\">\n",
       "  <thead>\n",
       "    <tr style=\"text-align: right;\">\n",
       "      <th></th>\n",
       "      <th>geometry</th>\n",
       "      <th>DEM</th>\n",
       "      <th>Slope</th>\n",
       "      <th>Aspect</th>\n",
       "      <th>Curvature</th>\n",
       "      <th>CN</th>\n",
       "      <th>TWI</th>\n",
       "      <th>Rainfall</th>\n",
       "      <th>LULC</th>\n",
       "      <th>Soil_Text</th>\n",
       "      <th>FSM</th>\n",
       "    </tr>\n",
       "  </thead>\n",
       "  <tbody>\n",
       "    <tr>\n",
       "      <th>0</th>\n",
       "      <td>POINT (648355.689 1032128.503)</td>\n",
       "      <td>810</td>\n",
       "      <td>4.124518</td>\n",
       "      <td>56.309933</td>\n",
       "      <td>1.28</td>\n",
       "      <td>71</td>\n",
       "      <td>7.651444</td>\n",
       "      <td>8.634620</td>\n",
       "      <td>30</td>\n",
       "      <td>7</td>\n",
       "      <td>0.13</td>\n",
       "    </tr>\n",
       "    <tr>\n",
       "      <th>1</th>\n",
       "      <td>POINT (652338.758 1039898.468)</td>\n",
       "      <td>798</td>\n",
       "      <td>1.811248</td>\n",
       "      <td>288.434937</td>\n",
       "      <td>-0.64</td>\n",
       "      <td>71</td>\n",
       "      <td>6.457982</td>\n",
       "      <td>9.113000</td>\n",
       "      <td>30</td>\n",
       "      <td>7</td>\n",
       "      <td>0.04</td>\n",
       "    </tr>\n",
       "    <tr>\n",
       "      <th>2</th>\n",
       "      <td>POINT (654594.349 1045368.461)</td>\n",
       "      <td>783</td>\n",
       "      <td>2.429397</td>\n",
       "      <td>45.000000</td>\n",
       "      <td>-1.28</td>\n",
       "      <td>71</td>\n",
       "      <td>8.626627</td>\n",
       "      <td>14.380471</td>\n",
       "      <td>30</td>\n",
       "      <td>7</td>\n",
       "      <td>0.04</td>\n",
       "    </tr>\n",
       "    <tr>\n",
       "      <th>3</th>\n",
       "      <td>POINT (653891.492 1031276.320)</td>\n",
       "      <td>845</td>\n",
       "      <td>0.810231</td>\n",
       "      <td>225.000000</td>\n",
       "      <td>-0.00</td>\n",
       "      <td>71</td>\n",
       "      <td>11.018336</td>\n",
       "      <td>9.009209</td>\n",
       "      <td>30</td>\n",
       "      <td>7</td>\n",
       "      <td>0.07</td>\n",
       "    </tr>\n",
       "    <tr>\n",
       "      <th>4</th>\n",
       "      <td>POINT (657859.303 1042542.024)</td>\n",
       "      <td>803</td>\n",
       "      <td>1.811248</td>\n",
       "      <td>108.434952</td>\n",
       "      <td>-0.64</td>\n",
       "      <td>71</td>\n",
       "      <td>7.151129</td>\n",
       "      <td>11.598495</td>\n",
       "      <td>30</td>\n",
       "      <td>7</td>\n",
       "      <td>0.06</td>\n",
       "    </tr>\n",
       "  </tbody>\n",
       "</table>\n",
       "</div>"
      ],
      "text/plain": [
       "                         geometry  DEM     Slope      Aspect  Curvature  CN  \\\n",
       "0  POINT (648355.689 1032128.503)  810  4.124518   56.309933       1.28  71   \n",
       "1  POINT (652338.758 1039898.468)  798  1.811248  288.434937      -0.64  71   \n",
       "2  POINT (654594.349 1045368.461)  783  2.429397   45.000000      -1.28  71   \n",
       "3  POINT (653891.492 1031276.320)  845  0.810231  225.000000      -0.00  71   \n",
       "4  POINT (657859.303 1042542.024)  803  1.811248  108.434952      -0.64  71   \n",
       "\n",
       "         TWI   Rainfall  LULC  Soil_Text   FSM  \n",
       "0   7.651444   8.634620    30          7  0.13  \n",
       "1   6.457982   9.113000    30          7  0.04  \n",
       "2   8.626627  14.380471    30          7  0.04  \n",
       "3  11.018336   9.009209    30          7  0.07  \n",
       "4   7.151129  11.598495    30          7  0.06  "
      ]
     },
     "execution_count": 40,
     "metadata": {},
     "output_type": "execute_result"
    }
   ],
   "source": [
    "df= df.drop(labels = ['id','label','Soil_Test'], axis=1) \n",
    "df.head()"
   ]
  },
  {
   "cell_type": "code",
   "execution_count": 41,
   "metadata": {
    "colab": {
     "base_uri": "https://localhost:8080/"
    },
    "id": "BeR5qlyXRsBy",
    "outputId": "5fc0c300-adde-41fc-b2ea-cbd841d8072b",
    "tags": []
   },
   "outputs": [
    {
     "name": "stdout",
     "output_type": "stream",
     "text": [
      "Defaulting to user installation because normal site-packages is not writeable\n",
      "Requirement already satisfied: geocube in /home/eoafrica/.local/lib/python3.8/site-packages (0.3.3)\n",
      "Requirement already satisfied: appdirs in /home/eoafrica/.local/lib/python3.8/site-packages (from geocube) (1.4.4)\n",
      "Requirement already satisfied: click>=6.0 in /usr/local/lib/python3.8/dist-packages (from geocube) (8.1.4)\n",
      "Requirement already satisfied: geopandas>=0.7 in /usr/local/lib/python3.8/dist-packages (from geocube) (0.13.2)\n",
      "Requirement already satisfied: odc-geo in /home/eoafrica/.local/lib/python3.8/site-packages (from geocube) (0.4.2)\n",
      "Requirement already satisfied: rasterio in /home/eoafrica/.local/lib/python3.8/site-packages (from geocube) (1.3.9)\n",
      "Requirement already satisfied: rioxarray>=0.4 in /usr/local/lib/python3.8/dist-packages (from geocube) (0.13.4)\n",
      "Requirement already satisfied: scipy in /usr/local/lib/python3.8/dist-packages (from geocube) (1.10.1)\n",
      "Requirement already satisfied: xarray>=0.17 in /usr/local/lib/python3.8/dist-packages (from geocube) (2022.12.0)\n",
      "Requirement already satisfied: pyproj>=2 in /usr/local/lib/python3.8/dist-packages (from geocube) (3.5.0)\n",
      "Requirement already satisfied: numpy>=1.20 in /usr/local/lib/python3.8/dist-packages (from geocube) (1.22.4)\n",
      "Requirement already satisfied: fiona>=1.8.19 in /usr/local/lib/python3.8/dist-packages (from geopandas>=0.7->geocube) (1.9.4.post1)\n",
      "Requirement already satisfied: packaging in /usr/local/lib/python3.8/dist-packages (from geopandas>=0.7->geocube) (23.1)\n",
      "Requirement already satisfied: pandas>=1.1.0 in /home/eoafrica/.local/lib/python3.8/site-packages (from geopandas>=0.7->geocube) (2.0.3)\n",
      "Requirement already satisfied: shapely>=1.7.1 in /usr/local/lib/python3.8/dist-packages (from geopandas>=0.7->geocube) (2.0.1)\n",
      "Requirement already satisfied: certifi in /usr/local/lib/python3.8/dist-packages (from pyproj>=2->geocube) (2023.5.7)\n",
      "Requirement already satisfied: affine in /usr/local/lib/python3.8/dist-packages (from rasterio->geocube) (2.4.0)\n",
      "Requirement already satisfied: attrs in /usr/local/lib/python3.8/dist-packages (from rasterio->geocube) (23.1.0)\n",
      "Requirement already satisfied: cligj>=0.5 in /usr/local/lib/python3.8/dist-packages (from rasterio->geocube) (0.7.2)\n",
      "Requirement already satisfied: snuggs>=1.4.1 in /usr/local/lib/python3.8/dist-packages (from rasterio->geocube) (1.4.7)\n",
      "Requirement already satisfied: click-plugins in /usr/local/lib/python3.8/dist-packages (from rasterio->geocube) (1.1.1)\n",
      "Requirement already satisfied: setuptools in /usr/local/lib/python3.8/dist-packages (from rasterio->geocube) (68.0.0)\n",
      "Requirement already satisfied: cachetools in /usr/local/lib/python3.8/dist-packages (from odc-geo->geocube) (5.3.1)\n",
      "Requirement already satisfied: six in /usr/local/lib/python3.8/dist-packages (from fiona>=1.8.19->geopandas>=0.7->geocube) (1.16.0)\n",
      "Requirement already satisfied: importlib-metadata in /usr/local/lib/python3.8/dist-packages (from fiona>=1.8.19->geopandas>=0.7->geocube) (6.7.0)\n",
      "Requirement already satisfied: python-dateutil>=2.8.2 in /usr/local/lib/python3.8/dist-packages (from pandas>=1.1.0->geopandas>=0.7->geocube) (2.8.2)\n",
      "Requirement already satisfied: pytz>=2020.1 in /usr/local/lib/python3.8/dist-packages (from pandas>=1.1.0->geopandas>=0.7->geocube) (2023.3)\n",
      "Requirement already satisfied: tzdata>=2022.1 in /home/eoafrica/.local/lib/python3.8/site-packages (from pandas>=1.1.0->geopandas>=0.7->geocube) (2024.1)\n",
      "Requirement already satisfied: pyparsing>=2.1.6 in /usr/local/lib/python3.8/dist-packages (from snuggs>=1.4.1->rasterio->geocube) (3.0.9)\n",
      "Requirement already satisfied: zipp>=0.5 in /usr/local/lib/python3.8/dist-packages (from importlib-metadata->fiona>=1.8.19->geopandas>=0.7->geocube) (3.15.0)\n"
     ]
    }
   ],
   "source": [
    "! pip install geocube"
   ]
  },
  {
   "cell_type": "code",
   "execution_count": 52,
   "metadata": {
    "id": "jJmfMXMPIJ-O",
    "tags": []
   },
   "outputs": [],
   "source": [
    "# %matplotlib inline\n",
    "\n",
    "# import geocube\n",
    "# from geocube.api.core import make_geocube\n",
    "\n",
    "# geo_grid = make_geocube(\n",
    "#     vector_data=df,\n",
    "#     # measurements=['FSM'],\n",
    "#     resolution=(-12.5, 12.5)\n",
    "# )"
   ]
  },
  {
   "cell_type": "code",
   "execution_count": 53,
   "metadata": {
    "id": "mOpYrfYuIJ-P",
    "outputId": "833bcc1c-65d5-40a4-d7c7-fd788bab1657",
    "tags": []
   },
   "outputs": [],
   "source": [
    "# geo_grid.FSM.plot()"
   ]
  },
  {
   "cell_type": "code",
   "execution_count": 54,
   "metadata": {},
   "outputs": [],
   "source": [
    "# import matplotlib.pyplot as plt\n",
    "\n",
    "# # Set the backend to inline for Jupyter Notebook\n",
    "# %matplotlib inline\n",
    "\n",
    "# Plot the 'FSM' measurement directly from the GeoCube\n",
    "# geo_grid.FSM.plot(cmap='viridis')  # Adjust the colormap as needed\n",
    "# plt.title('FSM Measurement')\n",
    "# plt.show()"
   ]
  },
  {
   "cell_type": "code",
   "execution_count": 49,
   "metadata": {
    "id": "-9RgfrriIJ-P",
    "tags": []
   },
   "outputs": [],
   "source": [
    "geo_grid.FSM.rio.to_raster(\"FSM.tif\")\n"
   ]
  },
  {
   "cell_type": "code",
   "execution_count": 51,
   "metadata": {
    "tags": []
   },
   "outputs": [
    {
     "data": {
      "image/png": "[encoded data removed]",
      "text/plain": [
       "<Figure size 500x700 with 2 Axes>"
      ]
     },
     "metadata": {},
     "output_type": "display_data"
    }
   ],
   "source": [
    "import geocube\n",
    "from geocube.api.core import make_geocube\n",
    "import matplotlib.pyplot as plt\n",
    "import geopandas as gpd\n",
    "from shapely.geometry import box\n",
    "import rasterio\n",
    "from rasterio.plot import show\n",
    "\n",
    "# Assuming df is a GeoDataFrame with your vector data\n",
    "\n",
    "# Create a GeoCube\n",
    "geo_grid = make_geocube(\n",
    "    vector_data=df,\n",
    "    measurements=['FSM'],\n",
    "    resolution=(-12.5, 12.5)\n",
    ")\n",
    "\n",
    "# Extract the raster data\n",
    "raster_data = geo_grid.compute()\n",
    "\n",
    "# Assuming LULC.tif is your LULC raster file with RGB values\n",
    "lulc_path = \"LULC.tif\"\n",
    "lulc_data = rasterio.open(lulc_path)\n",
    "\n",
    "# Plot the raster data on a map\n",
    "fig, ax = plt.subplots(figsize=(5, 7))  # Adjust the size of the map\n",
    "\n",
    "# Assuming the raster_data is a DataArray with the 'label' variable\n",
    "im1 = raster_data.FSM.plot(ax=ax, cmap='viridis', add_colorbar=False)\n",
    "\n",
    "# Optionally, overlay your vector data on the map\n",
    "#df.plot(ax=ax, color='yellow', alpha=0.5, edgecolor='black')\n",
    "\n",
    "# Add labels for points\n",
    "for idx, row in df.iterrows():\n",
    "    color = 'yellow' if row['FSM'] == 1 else 'blue'\n",
    "    ax.text(row.geometry.x, row.geometry.y, str(row['FSM']), color=color, fontsize=4)\n",
    "\n",
    "# Add legends for flood and no flood with distinct colors\n",
    "legend_handles = [plt.Line2D([0], [0], marker='o', color='w', markerfacecolor='blue', markersize=10),\n",
    "                  plt.Line2D([0], [0], marker='o', color='w', markerfacecolor='yellow', markersize=10)]\n",
    "legend_labels = {0: 'No Flood', 1: 'Flooded'}\n",
    "ax.legend(legend_handles, legend_labels.values(), scatterpoints=1, frameon=False, labelspacing=1, loc='upper right')\n",
    "\n",
    "# Show the LULC raster with RGB values\n",
    "show(lulc_data, ax=ax)\n",
    "\n",
    "# Add default legends for the raster data\n",
    "cbar = plt.colorbar(im1, ax=ax, pad=0.04)\n",
    "cbar.set_label('Flood_susceptibility_for_Amibara_RF_Model')\n",
    "\n",
    "# # Set the legend ticks and labels\n",
    "# cbar.set_ticks([0, 1])\n",
    "# cbar.set_ticklabels(['Min', 'Max'])\n",
    "\n",
    "# # Adjust the extent of the map\n",
    "# ax.set_xlim(lulc_data.bounds.left.min(), lulc_data.bounds.right.max())\n",
    "# ax.set_ylim(lulc_data.bounds.bottom.min(), lulc_data.bounds.top.max())\n",
    "\n",
    "# Show the map\n",
    "plt.show()"
   ]
  },
  {
   "cell_type": "code",
   "execution_count": null,
   "metadata": {},
   "outputs": [],
   "source": []
  }
 ],
 "metadata": {
  "colab": {
   "collapsed_sections": [],
   "include_colab_link": true,
   "provenance": []
  },
  "kernelspec": {
   "display_name": "Python 3 (ipykernel)",
   "language": "python",
   "name": "python3"
  },
  "language_info": {
   "codemirror_mode": {
    "name": "ipython",
    "version": 3
   },
   "file_extension": ".py",
   "mimetype": "text/x-python",
   "name": "python",
   "nbconvert_exporter": "python",
   "pygments_lexer": "ipython3",
   "version": "3.8.10"
  }
 },
 "nbformat": 4,
 "nbformat_minor": 4
}
